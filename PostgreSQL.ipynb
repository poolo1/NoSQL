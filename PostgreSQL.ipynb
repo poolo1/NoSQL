{
 "cells": [
  {
   "cell_type": "markdown",
   "metadata": {},
   "source": [
    "## PostgreSQL\n",
    "### Exercices"
   ]
  },
  {
   "cell_type": "code",
   "execution_count": null,
   "metadata": {},
   "outputs": [],
   "source": [
    "import pandas as pd\n",
    "\n",
    "df = pd.read_csv(\"/Users/polo11/Downloads/bank_full.csv\")\n",
    "df.columns"
   ]
  },
  {
   "cell_type": "code",
   "execution_count": 38,
   "metadata": {},
   "outputs": [],
   "source": [
    "import psycopg2\n",
    "\n",
    "# Connect to PostgreSQL database\n",
    "conn = psycopg2.connect(dbname=\"new_db\", user=\"postgres\", password=\"PF1234-5678\", host=\"localhost\",  port=\"5432\" )\n",
    "c = conn.cursor()"
   ]
  },
  {
   "cell_type": "code",
   "execution_count": 39,
   "metadata": {},
   "outputs": [
    {
     "name": "stdout",
     "output_type": "stream",
     "text": [
      "L'âge moyen est de 40.94 ans.\n"
     ]
    }
   ],
   "source": [
    "##1: What is the average age of the customers?\n",
    "c.execute(\"\"\"SELECT AVG(age) FROM bank_full\"\"\")\n",
    "average_age = c.fetchone()[0]\n",
    "average_age_phrase = \"L'âge moyen est de {:.2f} ans.\".format(average_age)\n",
    "print(average_age_phrase)"
   ]
  },
  {
   "cell_type": "code",
   "execution_count": 40,
   "metadata": {},
   "outputs": [
    {
     "data": {
      "text/plain": [
       "[(815,)]"
      ]
     },
     "execution_count": 40,
     "metadata": {},
     "output_type": "execute_result"
    }
   ],
   "source": [
    "##2: How many customers have defaulted on loans?\n",
    "conn = psycopg2.connect(dbname=\"new_db\", user=\"postgres\", password=\"PF1234-5678\", host=\"localhost\",  port=\"5432\" )\n",
    "c = conn.cursor()\n",
    "c.execute(\"\"\" SELECT COUNT(*) \n",
    "          FROM bank_full\n",
    "          WHERE default_='yes' \"\"\")\n",
    "c.fetchall()\n"
   ]
  },
  {
   "cell_type": "markdown",
   "metadata": {},
   "source": [
    "Il y a **815** clients en défaut de paiement."
   ]
  },
  {
   "cell_type": "code",
   "execution_count": 41,
   "metadata": {},
   "outputs": [
    {
     "data": {
      "text/plain": [
       "[(Decimal('102127'),)]"
      ]
     },
     "execution_count": 41,
     "metadata": {},
     "output_type": "execute_result"
    }
   ],
   "source": [
    "##3: What is the maximum balance in the account?\n",
    "c.execute(\"\"\" SELECT MAX(balance) FROM bank_full\"\"\")\n",
    "c.fetchall()"
   ]
  },
  {
   "cell_type": "markdown",
   "metadata": {},
   "source": [
    "La balance maximale est de **102 127€**."
   ]
  },
  {
   "cell_type": "code",
   "execution_count": 42,
   "metadata": {},
   "outputs": [
    {
     "data": {
      "text/plain": [
       "[(25130,)]"
      ]
     },
     "execution_count": 42,
     "metadata": {},
     "output_type": "execute_result"
    }
   ],
   "source": [
    "##4: How many customers have a housing loan?\n",
    "c.execute(\"\"\" SELECT COUNT(*) FROM bank_full\n",
    "          WHERE housing = 'yes' \"\"\")\n",
    "c.fetchall()"
   ]
  },
  {
   "cell_type": "markdown",
   "metadata": {},
   "source": [
    "**25 130** clients ont un prêt immobilier."
   ]
  },
  {
   "cell_type": "code",
   "execution_count": 43,
   "metadata": {},
   "outputs": [
    {
     "data": {
      "text/plain": [
       "[('secondary', 18)]"
      ]
     },
     "execution_count": 43,
     "metadata": {},
     "output_type": "execute_result"
    }
   ],
   "source": [
    "##5: What is the education level of the youngest customer?\n",
    "c.execute(\"\"\" SELECT education, MIN(age)\n",
    "          FROM bank_full\n",
    "          GROUP BY education\n",
    "          LIMIT 1\"\"\")\n",
    "c.fetchall()"
   ]
  },
  {
   "cell_type": "markdown",
   "metadata": {},
   "source": [
    "Le niveau d'éducation du plus jeune client est un niveau **secondaire**."
   ]
  },
  {
   "cell_type": "code",
   "execution_count": 44,
   "metadata": {},
   "outputs": [
    {
     "data": {
      "text/plain": [
       "[(95, 'divorced')]"
      ]
     },
     "execution_count": 44,
     "metadata": {},
     "output_type": "execute_result"
    }
   ],
   "source": [
    "##6: What is the marital status of the oldest customer?\n",
    "c.execute(\"\"\" SELECT MAX(age), marital\n",
    "          FROM bank_full\n",
    "          GROUP BY marital\n",
    "          ORDER BY MAX(age) DESC\n",
    "          LIMIT 1\"\"\")\n",
    "c.fetchall()"
   ]
  },
  {
   "cell_type": "markdown",
   "metadata": {},
   "source": [
    "Le client le plus âgé a **95 ans** et est **divorcé**."
   ]
  },
  {
   "cell_type": "code",
   "execution_count": 45,
   "metadata": {},
   "outputs": [
    {
     "data": {
      "text/plain": [
       "[(13766, 'may'),\n",
       " (6895, 'jul'),\n",
       " (6247, 'aug'),\n",
       " (5341, 'jun'),\n",
       " (3970, 'nov'),\n",
       " (2932, 'apr'),\n",
       " (2649, 'feb'),\n",
       " (1403, 'jan'),\n",
       " (738, 'oct'),\n",
       " (579, 'sep'),\n",
       " (477, 'mar'),\n",
       " (214, 'dec')]"
      ]
     },
     "execution_count": 45,
     "metadata": {},
     "output_type": "execute_result"
    }
   ],
   "source": [
    "##7: What is the distribution of the months in which customers were last contacted?\n",
    "c.execute(\"\"\" SELECT COUNT(*) as num_customers, month\n",
    "          FROM bank_full\n",
    "          WHERE month IS NOT NULL\n",
    "          GROUP BY month\n",
    "          ORDER BY num_customers DESC\"\"\")\n",
    "c.fetchall()"
   ]
  },
  {
   "cell_type": "code",
   "execution_count": 46,
   "metadata": {},
   "outputs": [
    {
     "data": {
      "text/plain": [
       "[(Decimal('250.8453892876863611'),)]"
      ]
     },
     "execution_count": 46,
     "metadata": {},
     "output_type": "execute_result"
    }
   ],
   "source": [
    "##8: What is the average duration of contact for customers who have a personal loan?\n",
    "c.execute(\"\"\" SELECT AVG(duration) as avg_duration FROM bank_full\n",
    "          WHERE loan='yes' \"\"\")\n",
    "c.fetchall()"
   ]
  },
  {
   "cell_type": "markdown",
   "metadata": {},
   "source": [
    "La durée moyenne de contact pour les gens qui ont un prêt perosnnel est de **250.85 jours**."
   ]
  },
  {
   "cell_type": "code",
   "execution_count": 47,
   "metadata": {},
   "outputs": [
    {
     "data": {
      "text/plain": [
       "[(8257, Decimal('260.1186871745185903'))]"
      ]
     },
     "execution_count": 47,
     "metadata": {},
     "output_type": "execute_result"
    }
   ],
   "source": [
    "##9: How many customers were previously contacted, and what was the average duration of their last contact?\n",
    "c.execute(\"\"\" SELECT COUNT(*) as num_customers, AVG(duration) as avg_duration FROM bank_full\n",
    "          WHERE pdays != -1 \"\"\")\n",
    "c.fetchall()"
   ]
  },
  {
   "cell_type": "markdown",
   "metadata": {},
   "source": [
    "Il y a **8257** clients qui ont été contactés et la durée moyenne de leur dernier contact est de **260 jours**."
   ]
  },
  {
   "cell_type": "code",
   "execution_count": 48,
   "metadata": {},
   "outputs": [
    {
     "data": {
      "text/plain": [
       "[('blue-collar', 9732),\n",
       " ('management', 9458),\n",
       " ('technician', 7597),\n",
       " ('admin.', 5171),\n",
       " ('services', 4154),\n",
       " ('retired', 2264),\n",
       " ('self-employed', 1579),\n",
       " ('entrepreneur', 1487),\n",
       " ('unemployed', 1303),\n",
       " ('housemaid', 1240),\n",
       " ('student', 938),\n",
       " ('unknown', 288)]"
      ]
     },
     "execution_count": 48,
     "metadata": {},
     "output_type": "execute_result"
    }
   ],
   "source": [
    "##10: What is the distribution of job types among customers?\n",
    "c.execute(\"\"\" SELECT job , COUNT(*) as num_customers FROM bank_full\n",
    "          GROUP BY job\n",
    "          ORDER BY num_customers DESC\"\"\")\n",
    "c.fetchall()"
   ]
  },
  {
   "cell_type": "code",
   "execution_count": 49,
   "metadata": {},
   "outputs": [
    {
     "data": {
      "text/plain": [
       "[(27667,)]"
      ]
     },
     "execution_count": 49,
     "metadata": {},
     "output_type": "execute_result"
    }
   ],
   "source": [
    "##11: How many customers have been contacted more than once in the current campaign?\n",
    "c.execute(\"\"\" SELECT COUNT(*) as num_customers FROM bank_full\n",
    "          WHERE campaign >1 \"\"\")\n",
    "c.fetchall()"
   ]
  },
  {
   "cell_type": "markdown",
   "metadata": {},
   "source": [
    "Il y a **27667** clients qui ont été contacté plus d'une fois dans la campagne actuelle."
   ]
  },
  {
   "cell_type": "code",
   "execution_count": 50,
   "metadata": {},
   "outputs": [
    {
     "name": "stdout",
     "output_type": "stream",
     "text": [
      "0.821195652173913\n"
     ]
    }
   ],
   "source": [
    "##12: What is the success rate of previous marketing campaigns (poutcome) among customers.\n",
    "c.execute(\"\"\" SELECT poutcome, COUNT(*) as num_customers\n",
    "          FROM bank_full\n",
    "          GROUP BY poutcome\"\"\")\n",
    "result1 = c.fetchall()\n",
    "\n",
    "c.execute(\"\"\" SELECT COUNT(*) as success\n",
    "          FROM bank_full\n",
    "          WHERE poutcome='success'\"\"\")\n",
    "result2 = c.fetchall()\n",
    "\n",
    "#On calcul le taux de réussite des campagnes marketing précédentes.\n",
    "print(result2[0][0]/result1[0][1])"
   ]
  },
  {
   "cell_type": "markdown",
   "metadata": {},
   "source": [
    "Le taux de réussite des campagnes marketing précédentes sur les clientse est de **82.12%**."
   ]
  }
 ],
 "metadata": {
  "kernelspec": {
   "display_name": "base",
   "language": "python",
   "name": "python3"
  },
  "language_info": {
   "codemirror_mode": {
    "name": "ipython",
    "version": 3
   },
   "file_extension": ".py",
   "mimetype": "text/x-python",
   "name": "python",
   "nbconvert_exporter": "python",
   "pygments_lexer": "ipython3",
   "version": "3.11.5"
  }
 },
 "nbformat": 4,
 "nbformat_minor": 2
}
