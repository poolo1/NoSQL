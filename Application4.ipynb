{
 "cells": [
  {
   "cell_type": "markdown",
   "metadata": {},
   "source": [
    "## Application 4\n",
    "### Exercices Neo4j"
   ]
  },
  {
   "cell_type": "markdown",
   "metadata": {},
   "source": [
    "1. How many actors played in more than 2 movie ? Get their names and year they were born.\n"
   ]
  },
  {
   "cell_type": "code",
   "execution_count": 15,
   "metadata": {},
   "outputs": [],
   "source": [
    "import py2neo\n",
    "import seaborn as sns\n",
    "\n",
    "graph = py2neo.Graph(\"bolt://localhost:7687\", auth=(\"neo4j\", \"password_tuts\"), name=\"movie\")  \n"
   ]
  },
  {
   "cell_type": "code",
   "execution_count": 25,
   "metadata": {},
   "outputs": [
    {
     "name": "stdout",
     "output_type": "stream",
     "text": [
      "15 actors played in more than 2 movies\n",
      "Hugo Weaving 1960\n",
      "Laurence Fishburne 1961\n",
      "Carrie-Anne Moss 1967\n",
      "Keanu Reeves 1964\n",
      "Cuba Gooding Jr. 1968\n",
      "Kevin Bacon 1958\n",
      "Jack Nicholson 1937\n",
      "Tom Cruise 1962\n",
      "Meg Ryan 1961\n",
      "Helen Hunt 1963\n",
      "Robin Williams 1951\n",
      "Tom Hanks 1956\n",
      "Gene Hackman 1930\n",
      "Ben Miles 1967\n",
      "Bill Paxton 1955\n"
     ]
    }
   ],
   "source": [
    "query = \"\"\" MATCH (a:Person)-[:ACTED_IN]->(m:Movie)\n",
    "WITH a, count(m) as num_movies\n",
    "WHERE num_movies > 2\n",
    "RETURN a.name, a.born \"\"\"\n",
    "\n",
    "results = graph.run(query).to_data_frame()\n",
    "print(len(results), \"actors played in more than 2 movies\")\n",
    "names = results['a.name']\n",
    "born = results['a.born']\n",
    "for i in range(len(results)):\n",
    "    print(names[i], born[i])"
   ]
  },
  {
   "cell_type": "markdown",
   "metadata": {},
   "source": [
    "2. In how many movies did Tom hanks play ?\n"
   ]
  },
  {
   "cell_type": "code",
   "execution_count": 26,
   "metadata": {},
   "outputs": [
    {
     "name": "stdout",
     "output_type": "stream",
     "text": [
      "Tom Hanks played in 12 movies\n"
     ]
    }
   ],
   "source": [
    "query = \"\"\" MATCH (a:Person {name: 'Tom Hanks'})-[:ACTED_IN]->(m:Movie)\n",
    "RETURN count(m) \"\"\"\n",
    "\n",
    "results = graph.run(query).to_data_frame()\n",
    "print(\"Tom Hanks played in\", results['count(m)'][0], \"movies\")"
   ]
  },
  {
   "cell_type": "markdown",
   "metadata": {},
   "source": [
    "3. In average in how many movies do actors play in ?\n"
   ]
  },
  {
   "cell_type": "code",
   "execution_count": 27,
   "metadata": {},
   "outputs": [
    {
     "name": "stdout",
     "output_type": "stream",
     "text": [
      "In average actors play in 1.6862745098039222 movies\n"
     ]
    }
   ],
   "source": [
    "query = \"\"\" MATCH (a:Person)-[:ACTED_IN]->(m:Movie)\n",
    "WITH a, count(m) as num_movies\n",
    "RETURN avg(num_movies) \"\"\"\n",
    "\n",
    "results = graph.run(query).to_data_frame()\n",
    "print(\"In average actors play in\", results['avg(num_movies)'][0], \"movies\")"
   ]
  },
  {
   "cell_type": "markdown",
   "metadata": {},
   "source": [
    "4. In average how many actors are there in a movie ?\n"
   ]
  },
  {
   "cell_type": "code",
   "execution_count": 28,
   "metadata": {},
   "outputs": [
    {
     "name": "stdout",
     "output_type": "stream",
     "text": [
      "In average there are 4.526315789473684 actors in a movie\n"
     ]
    }
   ],
   "source": [
    "query = \"\"\" MATCH (a:Person)-[:ACTED_IN]->(m:Movie)\n",
    "WITH m, count(a) as num_actors\n",
    "RETURN avg(num_actors) \"\"\"\n",
    "\n",
    "results = graph.run(query).to_data_frame()\n",
    "print(\"In average there are\", results['avg(num_actors)'][0], \"actors in a movie\")"
   ]
  },
  {
   "cell_type": "markdown",
   "metadata": {},
   "source": [
    "5. In average how many writers is needed to write a movie ?\n"
   ]
  },
  {
   "cell_type": "code",
   "execution_count": 29,
   "metadata": {},
   "outputs": [
    {
     "name": "stdout",
     "output_type": "stream",
     "text": [
      "In average there are 1.25 writers in a movie\n"
     ]
    }
   ],
   "source": [
    "query = \"\"\" MATCH (w:Person)-[:WROTE]->(m:Movie)\n",
    "WITH m, count(w) as num_writers\n",
    "RETURN avg(num_writers) \"\"\"\n",
    "\n",
    "results = graph.run(query).to_data_frame()\n",
    "print(\"In average there are\", results['avg(num_writers)'][0], \"writers in a movie\")"
   ]
  },
  {
   "cell_type": "markdown",
   "metadata": {},
   "source": [
    "6. What is the proportion of writers that also directed the movie ?\n"
   ]
  },
  {
   "cell_type": "code",
   "execution_count": 34,
   "metadata": {},
   "outputs": [
    {
     "name": "stdout",
     "output_type": "stream",
     "text": [
      "Proportion of writers that also directed the movie is 1.0\n"
     ]
    }
   ],
   "source": [
    "query = \"\"\"\n",
    "MATCH (w:Person)-[:WROTE]->(m:Movie)<-[:DIRECTED]-(d:Person)\n",
    "WHERE w.name = d.name\n",
    "WITH m, count(w) as num_writers, count(d) as num_directors\n",
    "RETURN CASE WHEN num_writers > 0 THEN toFloat(num_directors) / num_writers ELSE 0 END AS proportion\n",
    "\"\"\"\n",
    "\n",
    "result = graph.run(query).to_data_frame()\n",
    "print(\"Proportion of writers that also directed the movie is\", result['proportion'][0])\n"
   ]
  },
  {
   "cell_type": "markdown",
   "metadata": {},
   "source": [
    "7. Do an histogram of the year of release for the movies.\n"
   ]
  },
  {
   "cell_type": "code",
   "execution_count": 35,
   "metadata": {},
   "outputs": [
    {
     "data": {
      "image/png": "[encoded data removed]",
      "text/plain": [
       "<Figure size 640x480 with 1 Axes>"
      ]
     },
     "metadata": {},
     "output_type": "display_data"
    }
   ],
   "source": [
    "query = \"\"\" MATCH (m:Movie) RETURN m.released as year \"\"\"\n",
    "data = graph.run(query).to_data_frame()\n",
    "ax = sns.histplot(data[\"year\"])\n",
    "ax.title.set_text(\"Histogram of the year of release for the movies\")"
   ]
  },
  {
   "cell_type": "markdown",
   "metadata": {},
   "source": [
    "8. Who are the 10 actors with the most movie played in\n"
   ]
  },
  {
   "cell_type": "code",
   "execution_count": 36,
   "metadata": {},
   "outputs": [
    {
     "name": "stdout",
     "output_type": "stream",
     "text": [
      "               a.name  num_movies\n",
      "0           Tom Hanks          12\n",
      "1        Keanu Reeves           7\n",
      "2            Meg Ryan           5\n",
      "3      Jack Nicholson           5\n",
      "4        Hugo Weaving           5\n",
      "5    Cuba Gooding Jr.           4\n",
      "6         Kevin Bacon           3\n",
      "7  Laurence Fishburne           3\n",
      "8    Carrie-Anne Moss           3\n",
      "9          Tom Cruise           3\n"
     ]
    }
   ],
   "source": [
    "query = \"\"\" MATCH (a:Person)-[:ACTED_IN]->(m:Movie)\n",
    "WITH a, count(m) as num_movies\n",
    "RETURN a.name, num_movies\n",
    "ORDER BY num_movies DESC\n",
    "LIMIT 10 \"\"\"\n",
    "\n",
    "results = graph.run(query).to_data_frame()\n",
    "print(results)"
   ]
  },
  {
   "cell_type": "markdown",
   "metadata": {},
   "source": [
    "9. Delete every movie made by a director of your choosing\n"
   ]
  },
  {
   "cell_type": "code",
   "execution_count": 37,
   "metadata": {},
   "outputs": [
    {
     "data": {
      "text/html": [
       "(No data)"
      ],
      "text/plain": [
       "(No data)"
      ]
     },
     "execution_count": 37,
     "metadata": {},
     "output_type": "execute_result"
    }
   ],
   "source": [
    "query = \"\"\" MATCH (d:Person {name: 'Howard Deutch'})-[:DIRECTED]->(m:Movie)\n",
    "DETACH DELETE m \"\"\"\n",
    "\n",
    "graph.run(query)"
   ]
  },
  {
   "cell_type": "markdown",
   "metadata": {},
   "source": [
    "10.  Give some statistics that you find interesting.\n"
   ]
  },
  {
   "cell_type": "code",
   "execution_count": 42,
   "metadata": {},
   "outputs": [
    {
     "name": "stdout",
     "output_type": "stream",
     "text": [
      "Proportion of writers that also acted in the movie is 1.0\n"
     ]
    }
   ],
   "source": [
    "query = \"\"\"MATCH (w:Person)-[:WROTE]->(m:Movie)\n",
    "WITH w, count(m) AS num_wrote_movies\n",
    "MATCH (w)-[:ACTED_IN]->(m)\n",
    "WITH w, num_wrote_movies, count(distinct m) AS num_movies_with_actor_role\n",
    "RETURN CASE \n",
    "    WHEN num_wrote_movies > 0 THEN toFloat(num_movies_with_actor_role) / num_wrote_movies \n",
    "    ELSE 0 \n",
    "END AS proportion\n",
    "        \"\"\"\n",
    "\n",
    "results1 = graph.run(query).to_data_frame()\n",
    "print(\"Proportion of writers that also acted in the movie is\", results1['proportion'][0])"
   ]
  },
  {
   "cell_type": "markdown",
   "metadata": {},
   "source": [
    "11. Who played the most movies with KR ?\n"
   ]
  },
  {
   "cell_type": "code",
   "execution_count": 45,
   "metadata": {},
   "outputs": [
    {
     "name": "stdout",
     "output_type": "stream",
     "text": [
      "          actor  num_movies_with_keanu\n",
      "0  Hugo Weaving                      3\n"
     ]
    }
   ],
   "source": [
    "query = \"\"\"\n",
    "        MATCH (k:Person {name: 'Keanu Reeves'})-[:ACTED_IN]->(m:Movie)<-[:ACTED_IN]-(a:Person)\n",
    "        WHERE a <> k\n",
    "        WITH a, count(distinct m) AS num_movies_with_keanu\n",
    "        RETURN a.name AS actor, num_movies_with_keanu\n",
    "        ORDER BY num_movies_with_keanu DESC\n",
    "        LIMIT 1\n",
    "        \"\"\"\n",
    "\n",
    "results2 = graph.run(query).to_data_frame()\n",
    "print(results2)\n"
   ]
  },
  {
   "cell_type": "markdown",
   "metadata": {},
   "source": [
    "La personne qui a le plus joué dans un film avec KR est Hugo Weaving avec trois apparitions ensemble."
   ]
  }
 ],
 "metadata": {
  "kernelspec": {
   "display_name": "base",
   "language": "python",
   "name": "python3"
  },
  "language_info": {
   "codemirror_mode": {
    "name": "ipython",
    "version": 3
   },
   "file_extension": ".py",
   "mimetype": "text/x-python",
   "name": "python",
   "nbconvert_exporter": "python",
   "pygments_lexer": "ipython3",
   "version": "3.11.5"
  }
 },
 "nbformat": 4,
 "nbformat_minor": 2
}
