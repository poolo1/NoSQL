{
 "cells": [
  {
   "cell_type": "markdown",
   "metadata": {},
   "source": [
    "## MySQL\n",
    "### Exercices Chapitre I"
   ]
  },
  {
   "cell_type": "code",
   "execution_count": 1,
   "metadata": {},
   "outputs": [
    {
     "name": "stdout",
     "output_type": "stream",
     "text": [
      "Le nombre total de commandes est : 9033\n"
     ]
    }
   ],
   "source": [
    "import mysql.connector\n",
    "#1: How many orders were placed in total?\n",
    "# Connexion à la base de données MySQL\n",
    "conn = mysql.connector.connect(\n",
    "    host=\"localhost\", user=\"root\", password=\"PF1234-5678\", database=\"m1-ds2e\")\n",
    "\n",
    "cursor = conn.cursor()\n",
    "\n",
    "try:\n",
    "    query = \"SELECT COUNT(*) AS total_orders FROM sample_superstore\"\n",
    "    cursor.execute(query)\n",
    "    result = cursor.fetchone()\n",
    "    if result:\n",
    "        total_orders = result[0]\n",
    "        print(\"Le nombre total de commandes est :\", total_orders)\n",
    "\n",
    "finally:\n",
    "    if cursor:\n",
    "        cursor.close()\n",
    "    if conn:\n",
    "        conn.close()\n"
   ]
  },
  {
   "cell_type": "code",
   "execution_count": 5,
   "metadata": {},
   "outputs": [
    {
     "name": "stdout",
     "output_type": "stream",
     "text": [
      "Le montant total des ventes est : 8698057.950000014\n"
     ]
    }
   ],
   "source": [
    "#2: What is the total sales amount?\n",
    "conn = mysql.connector.connect(\n",
    "    host=\"localhost\", user=\"root\", password=\"PF1234-5678\", database=\"m1-ds2e\")\n",
    "\n",
    "cursor = conn.cursor()\n",
    "\n",
    "try:\n",
    "    query = \"SELECT SUM(sales) AS total_sales FROM sample_superstore\"\n",
    "    cursor.execute(query)\n",
    "    result = cursor.fetchone()\n",
    "    if result:\n",
    "        total_sales = result[0]\n",
    "        print(\"Le montant total des ventes est :\", total_sales)\n",
    "\n",
    "finally:\n",
    "    if cursor:\n",
    "        cursor.close()\n",
    "    if conn:\n",
    "        conn.close()\n"
   ]
  },
  {
   "cell_type": "code",
   "execution_count": 120,
   "metadata": {},
   "outputs": [
    {
     "name": "stdout",
     "output_type": "stream",
     "text": [
      "Average Profit per Order: 138.4031869077875\n"
     ]
    }
   ],
   "source": [
    "#3: What is the average profit per order?\n",
    "def calculate_average_profit_per_order(connection):\n",
    "    try:\n",
    "        cursor = connection.cursor()\n",
    "        query = \"SELECT AVG(profit) AS average_profit_per_order FROM sample_superstore\"\n",
    "        cursor.execute(query)\n",
    "\n",
    "        result = cursor.fetchone()\n",
    "\n",
    "        if result:\n",
    "            average_profit_per_order = result[0]\n",
    "            print(\"Average Profit per Order:\", average_profit_per_order)\n",
    "        else:\n",
    "            print(\"No result found.\")\n",
    "\n",
    "    except mysql.connector.Error as error:\n",
    "        print(\"Error executing the query:\", error)\n",
    "\n",
    "    finally:\n",
    "        if cursor:\n",
    "            cursor.close()\n",
    "\n",
    "try:\n",
    "    conn = mysql.connector.connect(\n",
    "    host=\"localhost\", user=\"root\", password=\"PF1234-5678\", database=\"m1-ds2e\")\n",
    "    calculate_average_profit_per_order(conn)\n",
    "\n",
    "finally:\n",
    "    if conn:\n",
    "        conn.close()\n"
   ]
  },
  {
   "cell_type": "code",
   "execution_count": 121,
   "metadata": {},
   "outputs": [
    {
     "name": "stdout",
     "output_type": "stream",
     "text": [
      "Customer with Most Orders:\n",
      "Customer Name: Louis Parrish\n",
      "Number of Orders: 26\n"
     ]
    }
   ],
   "source": [
    "#4: Which customer has placed the most orders?\n",
    "def find_customer_with_most_orders(connection):\n",
    "    try:\n",
    "        cursor = connection.cursor()\n",
    "        query = \"\"\"\n",
    "        SELECT `Customer Name`, COUNT(`Order ID`) AS order_count\n",
    "        FROM sample_superstore\n",
    "        GROUP BY `Customer Name`\n",
    "        ORDER BY order_count DESC\n",
    "        LIMIT 1\n",
    "        \"\"\"\n",
    "\n",
    "        cursor.execute(query)\n",
    "        result = cursor.fetchone()\n",
    "\n",
    "        if result:\n",
    "            customer_name = result[0]\n",
    "            order_count = result[1]\n",
    "            print(\"Customer with Most Orders:\")\n",
    "            print(\"Customer Name:\", customer_name)\n",
    "            print(\"Number of Orders:\", order_count)\n",
    "\n",
    "    finally:\n",
    "        if cursor:\n",
    "            cursor.close()\n",
    "\n",
    "try:\n",
    "    conn = mysql.connector.connect(\n",
    "    host=\"localhost\", user=\"root\", password=\"PF1234-5678\", database=\"m1-ds2e\")\n",
    "\n",
    "    find_customer_with_most_orders(conn)\n",
    "\n",
    "\n",
    "finally:\n",
    "    if conn:\n",
    "        conn.close()\n"
   ]
  },
  {
   "cell_type": "code",
   "execution_count": 122,
   "metadata": {},
   "outputs": [
    {
     "name": "stdout",
     "output_type": "stream",
     "text": [
      "Total Profit per Product Category:\n",
      "Product Category: Office Supplies\n",
      "Total Profit: 440488.3892998\n",
      "---\n",
      "Product Category: Technology\n",
      "Total Profit: 688056.5941278014\n",
      "---\n",
      "Product Category: Furniture\n",
      "Total Profit: 121651.00391044984\n",
      "---\n"
     ]
    }
   ],
   "source": [
    "#5: What is the total profit for each product category?\n",
    "def total_profit_per_category(connection):\n",
    "    try:\n",
    "        cursor = connection.cursor()\n",
    "        query = \"\"\"\n",
    "        SELECT `Product Category`, SUM(`Profit`) AS total_profit\n",
    "        FROM sample_superstore\n",
    "        GROUP BY `Product Category`\n",
    "        \"\"\"\n",
    "\n",
    "        cursor.execute(query)\n",
    "        results = cursor.fetchall()\n",
    "\n",
    "        if results:\n",
    "            print(\"Total Profit per Product Category:\")\n",
    "            for row in results:\n",
    "                category = row[0]\n",
    "                total_profit = row[1]\n",
    "                print(\"Product Category:\", category)\n",
    "                print(\"Total Profit:\", total_profit)\n",
    "                print(\"---\")\n",
    "\n",
    "    finally:\n",
    "        if cursor:\n",
    "            cursor.close()\n",
    "\n",
    "try:\n",
    "    conn = mysql.connector.connect(\n",
    "    host=\"localhost\",\n",
    "    user=\"root\",\n",
    "    password=\"PF1234-5678\",\n",
    "    database=\"m1-ds2e\"\n",
    ")\n",
    "    total_profit_per_category(conn)\n",
    "\n",
    "\n",
    "finally:\n",
    "    if conn:\n",
    "        conn.close()\n"
   ]
  },
  {
   "cell_type": "code",
   "execution_count": 123,
   "metadata": {},
   "outputs": [
    {
     "name": "stdout",
     "output_type": "stream",
     "text": [
      "Moyenne du Pourcentage de Réduction: 4.9626923502710785 %\n"
     ]
    }
   ],
   "source": [
    "#6: What is the average discount percentage?\n",
    "def moyenne_pourcentage_reduction(connection):\n",
    "    try:\n",
    "        cursor = connection.cursor()\n",
    "\n",
    "        query = \"\"\"\n",
    "        SELECT AVG(`Discount`) * 100 AS moyenne_pourcentage_reduction\n",
    "        FROM sample_superstore\n",
    "        \"\"\"\n",
    "        cursor.execute(query)\n",
    "        result = cursor.fetchone()\n",
    "\n",
    "        if result:\n",
    "            moyenne_pourcentage_reduction = result[0]\n",
    "            print(\"Moyenne du Pourcentage de Réduction:\", moyenne_pourcentage_reduction, \"%\")\n",
    "\n",
    "    finally:\n",
    "        if cursor:\n",
    "            cursor.close()\n",
    "\n",
    "try:\n",
    "    conn = mysql.connector.connect(\n",
    "    host=\"localhost\",\n",
    "    user=\"root\",\n",
    "    password=\"PF1234-5678\",\n",
    "    database=\"m1-ds2e\"\n",
    ")\n",
    "    moyenne_pourcentage_reduction(conn)\n",
    "\n",
    "finally:\n",
    "    if conn:\n",
    "        conn.close()\n"
   ]
  },
  {
   "cell_type": "code",
   "execution_count": 124,
   "metadata": {},
   "outputs": [
    {
     "name": "stdout",
     "output_type": "stream",
     "text": [
      "Région avec le Plus Grand Total de Ventes: Central\n",
      "Total de Ventes: 2462501.9600000004\n"
     ]
    }
   ],
   "source": [
    "#7: Which region has the highest total sales?\n",
    "def region_plus_grand_total_ventes(connection):\n",
    "    try:\n",
    "        cursor = connection.cursor()\n",
    "\n",
    "        query = \"\"\"\n",
    "        SELECT `Region`, SUM(`Sales`) AS total_ventes\n",
    "        FROM sample_superstore\n",
    "        GROUP BY `Region`\n",
    "        ORDER BY total_ventes DESC\n",
    "        LIMIT 1\n",
    "        \"\"\"\n",
    "\n",
    "        cursor.execute(query)\n",
    "        result = cursor.fetchone()\n",
    "\n",
    "        if result:\n",
    "            region = result[0]\n",
    "            total_ventes = result[1]\n",
    "            print(\"Région avec le Plus Grand Total de Ventes:\", region)\n",
    "            print(\"Total de Ventes:\", total_ventes)\n",
    "\n",
    "    finally:\n",
    "        if cursor:\n",
    "            cursor.close()\n",
    "\n",
    "try:\n",
    "    conn = mysql.connector.connect(\n",
    "          host=\"localhost\", user=\"root\", password=\"PF1234-5678\", database=\"m1-ds2e\")\n",
    "\n",
    "    region_plus_grand_total_ventes(conn)\n",
    "\n",
    "finally:\n",
    "    if conn:\n",
    "        conn.close()\n"
   ]
  },
  {
   "cell_type": "code",
   "execution_count": 125,
   "metadata": {},
   "outputs": [
    {
     "name": "stdout",
     "output_type": "stream",
     "text": [
      "Mode d'Expédition: Regular Air\n",
      "Nombre de Commandes: 6715\n",
      "\n",
      "Mode d'Expédition: Express Air\n",
      "Nombre de Commandes: 1052\n",
      "\n",
      "Mode d'Expédition: Delivery Truck\n",
      "Nombre de Commandes: 1266\n",
      "\n"
     ]
    }
   ],
   "source": [
    "#8: How many orders were shipped using each shipping mode?\n",
    "def orders_by_shipping_mode(connection):\n",
    "    try:\n",
    "        cursor = connection.cursor()\n",
    "        query = \"\"\"\n",
    "        SELECT `Ship Mode`, COUNT(*) AS total_orders\n",
    "        FROM sample_superstore\n",
    "        GROUP BY `Ship Mode`\n",
    "        \"\"\"\n",
    "\n",
    "        cursor.execute(query)\n",
    "        results = cursor.fetchall()\n",
    "        for result in results:\n",
    "            ship_mode = result[0]\n",
    "            total_orders = result[1]\n",
    "            print(\"Mode d'Expédition:\", ship_mode)\n",
    "            print(\"Nombre de Commandes:\", total_orders)\n",
    "            print()\n",
    "\n",
    "\n",
    "    finally:\n",
    "        if cursor:\n",
    "            cursor.close()\n",
    "try:\n",
    "    conn = mysql.connector.connect(\n",
    "          host=\"localhost\", user=\"root\", password=\"PF1234-5678\", database=\"m1-ds2e\")\n",
    "    orders_by_shipping_mode(conn)\n",
    "\n",
    "\n",
    "finally:\n",
    "    if conn:\n",
    "        conn.close()\n"
   ]
  },
  {
   "cell_type": "code",
   "execution_count": 126,
   "metadata": {},
   "outputs": [
    {
     "name": "stdout",
     "output_type": "stream",
     "text": [
      "Sous-Catégorie de Produit: Labels\n",
      "Quantité Totale Commandée: 4794\n",
      "\n",
      "Sous-Catégorie de Produit: Pens & Art Supplies\n",
      "Quantité Totale Commandée: 10752\n",
      "\n",
      "Sous-Catégorie de Produit: Paper\n",
      "Quantité Totale Commandée: 17666\n",
      "\n",
      "Sous-Catégorie de Produit: Scissors, Rulers and Trimmers\n",
      "Quantité Totale Commandée: 1865\n",
      "\n",
      "Sous-Catégorie de Produit: Telephones and Communication\n",
      "Quantité Totale Commandée: 14284\n",
      "\n",
      "Sous-Catégorie de Produit: Office Machines\n",
      "Quantité Totale Commandée: 4674\n",
      "\n",
      "Sous-Catégorie de Produit: Chairs & Chairmats\n",
      "Quantité Totale Commandée: 5769\n",
      "\n",
      "Sous-Catégorie de Produit: Appliances\n",
      "Quantité Totale Commandée: 7040\n",
      "\n",
      "Sous-Catégorie de Produit: Bookcases\n",
      "Quantité Totale Commandée: 2596\n",
      "\n",
      "Sous-Catégorie de Produit: Tables\n",
      "Quantité Totale Commandée: 5037\n",
      "\n",
      "Sous-Catégorie de Produit: Envelopes\n",
      "Quantité Totale Commandée: 3741\n",
      "\n",
      "Sous-Catégorie de Produit: Office Furnishings\n",
      "Quantité Totale Commandée: 11910\n",
      "\n",
      "Sous-Catégorie de Produit: Rubber Bands\n",
      "Quantité Totale Commandée: 2755\n",
      "\n",
      "Sous-Catégorie de Produit: Binders and Binder Accessories\n",
      "Quantité Totale Commandée: 12405\n",
      "\n",
      "Sous-Catégorie de Produit: Storage & Organization\n",
      "Quantité Totale Commandée: 7822\n",
      "\n",
      "Sous-Catégorie de Produit: Copiers and Fax\n",
      "Quantité Totale Commandée: 1177\n",
      "\n",
      "Sous-Catégorie de Produit: Computer Peripherals\n",
      "Quantité Totale Commandée: 10773\n",
      "\n"
     ]
    }
   ],
   "source": [
    "#9: What is the total quantity ordered for each product sub-category?\n",
    "def total_quantity_by_subcategory(connection):\n",
    "    try:\n",
    "        cursor = connection.cursor()\n",
    "        query = \"\"\"\n",
    "        SELECT `Product Sub-Category`, SUM(`Quantity ordered new`) AS total_quantity\n",
    "        FROM sample_superstore\n",
    "        GROUP BY `Product Sub-Category`\n",
    "        \"\"\"\n",
    "        cursor.execute(query)\n",
    "        results = cursor.fetchall()\n",
    "        for result in results:\n",
    "            sub_category = result[0]\n",
    "            total_quantity = result[1]\n",
    "            print(\"Sous-Catégorie de Produit:\", sub_category)\n",
    "            print(\"Quantité Totale Commandée:\", total_quantity)\n",
    "            print()\n",
    "\n",
    "    finally:\n",
    "        if cursor:\n",
    "            cursor.close()\n",
    "try:\n",
    "    conn = mysql.connector.connect(\n",
    "          host=\"localhost\", user=\"root\", password=\"PF1234-5678\", database=\"m1-ds2e\")\n",
    "\n",
    "    total_quantity_by_subcategory(conn)\n",
    "\n",
    "finally:\n",
    "    if conn:\n",
    "        conn.close()\n"
   ]
  },
  {
   "cell_type": "code",
   "execution_count": 127,
   "metadata": {},
   "outputs": [
    {
     "name": "stdout",
     "output_type": "stream",
     "text": [
      "Produit avec la Marge Bénéficiaire la Plus Élevée:\n",
      "Nom du Produit: Advantus Panel Wall Acrylic Frame\n",
      "Total Profit: 4903.3071\n",
      "Total Sales: 188.32\n",
      "Profit Margin (%): 2603.7102272727275\n"
     ]
    }
   ],
   "source": [
    "#10: Which product has the highest profit margin?\n",
    "def highest_profit_margin_product(connection):\n",
    "    try:\n",
    "        cursor = connection.cursor()\n",
    "        query = \"\"\"\n",
    "        SELECT `Product Name`, \n",
    "               SUM(`Profit`) AS total_profit,\n",
    "               SUM(`Sales`) AS total_sales,\n",
    "               (SUM(`Profit`) / SUM(`Sales`)) * 100 AS profit_margin\n",
    "        FROM sample_superstore\n",
    "        GROUP BY `Product Name`\n",
    "        ORDER BY profit_margin DESC\n",
    "        LIMIT 1\n",
    "        \"\"\"\n",
    "\n",
    "        cursor.execute(query)\n",
    "        result = cursor.fetchone()\n",
    "        if result:\n",
    "            product_name = result[0]\n",
    "            total_profit = result[1]\n",
    "            total_sales = result[2]\n",
    "            profit_margin = result[3]\n",
    "            print(\"Produit avec la Marge Bénéficiaire la Plus Élevée:\")\n",
    "            print(\"Nom du Produit:\", product_name)\n",
    "            print(\"Total Profit:\", total_profit)\n",
    "            print(\"Total Sales:\", total_sales)\n",
    "            print(\"Profit Margin (%):\", profit_margin)\n",
    "\n",
    "\n",
    "    finally:\n",
    "        if cursor:\n",
    "            cursor.close()\n",
    "try:\n",
    "    conn = mysql.connector.connect(\n",
    "          host=\"localhost\", user=\"root\", password=\"PF1234-5678\", database=\"m1-ds2e\")\n",
    "\n",
    "    highest_profit_margin_product(conn)\n",
    "\n",
    "\n",
    "finally:\n",
    "    if conn:\n",
    "        conn.close()\n"
   ]
  },
  {
   "cell_type": "code",
   "execution_count": 128,
   "metadata": {},
   "outputs": [
    {
     "name": "stdout",
     "output_type": "stream",
     "text": [
      "Montant Total des Ventes par Année:\n",
      "Année 2010: Montant Total des Ventes  1864104.4299999992\n",
      "Année 2011: Montant Total des Ventes  1913396.2600000014\n",
      "Année 2012: Montant Total des Ventes  2118545.4900000007\n",
      "Année 2013: Montant Total des Ventes  2802011.7700000005\n"
     ]
    }
   ],
   "source": [
    "#11: What is the total sales amount for each year?\n",
    "def total_sales_per_year(connection):\n",
    "    try:\n",
    "        cursor = connection.cursor()\n",
    "        query = \"\"\"\n",
    "        SELECT SUBSTRING_INDEX(`Order Date`, '/', -1) AS order_year, \n",
    "               SUM(`Sales`) AS total_sales\n",
    "        FROM sample_superstore\n",
    "        GROUP BY order_year\n",
    "        ORDER BY order_year\n",
    "        \"\"\"\n",
    "\n",
    "        cursor.execute(query)\n",
    "        results = cursor.fetchall()\n",
    "        print(\"Montant Total des Ventes par Année:\")\n",
    "        for row in results:\n",
    "            order_year = row[0]\n",
    "            total_sales = row[1]\n",
    "            print(f\"Année {order_year}: Montant Total des Ventes  {total_sales}\")\n",
    "\n",
    "    finally:\n",
    "        if cursor:\n",
    "            cursor.close()\n",
    "try:\n",
    "    conn = mysql.connector.connect(\n",
    "               host=\"localhost\", user=\"root\", password=\"PF1234-5678\", database=\"m1-ds2e\")\n",
    "\n",
    "    total_sales_per_year(conn)\n",
    "\n",
    "finally:\n",
    "    if conn:\n",
    "        conn.close()\n"
   ]
  },
  {
   "cell_type": "code",
   "execution_count": 129,
   "metadata": {},
   "outputs": [
    {
     "name": "stdout",
     "output_type": "stream",
     "text": [
      "The customer segment with the highest average sales is 'Consumer' with an average sales of 989.24\n"
     ]
    }
   ],
   "source": [
    "#12: Which customer segment has the highest average sales?\n",
    "def highest_avg_sales_by_segment(connection):\n",
    "    try:\n",
    "        cursor = connection.cursor()\n",
    "        query = \"\"\"\n",
    "        SELECT `Customer Segment`, AVG(`Sales`) AS avg_sales\n",
    "        FROM sample_superstore\n",
    "        GROUP BY `Customer Segment`\n",
    "        ORDER BY avg_sales DESC\n",
    "        LIMIT 1\n",
    "        \"\"\"\n",
    "\n",
    "        cursor.execute(query)\n",
    "        result = cursor.fetchone()\n",
    "\n",
    "        if result:\n",
    "            segment = result[0]\n",
    "            avg_sales = result[1]\n",
    "            print(f\"The customer segment with the highest average sales is '{segment}' with an average sales of {avg_sales:.2f}\")\n",
    "\n",
    "    finally:\n",
    "        if cursor:\n",
    "            cursor.close()\n",
    "try:\n",
    "    conn = mysql.connector.connect(\n",
    "                host=\"localhost\", user=\"root\", password=\"PF1234-5678\", database=\"m1-ds2e\")\n",
    "    highest_avg_sales_by_segment(conn)\n",
    "\n",
    "finally:\n",
    "    if conn:\n",
    "        conn.close()\n"
   ]
  }
 ],
 "metadata": {
  "kernelspec": {
   "display_name": "base",
   "language": "python",
   "name": "python3"
  },
  "language_info": {
   "codemirror_mode": {
    "name": "ipython",
    "version": 3
   },
   "file_extension": ".py",
   "mimetype": "text/x-python",
   "name": "python",
   "nbconvert_exporter": "python",
   "pygments_lexer": "ipython3",
   "version": "3.11.5"
  }
 },
 "nbformat": 4,
 "nbformat_minor": 2
}
