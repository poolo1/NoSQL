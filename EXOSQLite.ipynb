{
 "cells": [
  {
   "cell_type": "markdown",
   "metadata": {},
   "source": [
    "## SQLite\n",
    "### Exercices Chapitre I"
   ]
  },
  {
   "cell_type": "code",
   "execution_count": null,
   "metadata": {},
   "outputs": [],
   "source": [
    "#On importe les package nécessaire à l'exercice.\n",
    "import pandas as pd\n",
    "import sqlite3\n",
    "import tqdm\n",
    "import random\n",
    "\n",
    "#1. Read all the data\n",
    "df = pd.read_csv(\"/Users/polo11/Downloads/bc.csv\")\n",
    "df"
   ]
  },
  {
   "cell_type": "code",
   "execution_count": null,
   "metadata": {},
   "outputs": [],
   "source": [
    "print(\"nombre de ligne :\", (df.shape[0]))\n",
    "print(\"nombre de colonne :\", (df.shape[1]))"
   ]
  },
  {
   "cell_type": "code",
   "execution_count": null,
   "metadata": {},
   "outputs": [],
   "source": [
    "# 2: Insert the bc.csv in the sqlite format.\n",
    "import sqlite3\n",
    "\n",
    "conn = sqlite3.connect('/Users/polo11/Downloads/bc2.db')\n",
    "c = conn.cursor()\n",
    "\n",
    "\n",
    "\n"
   ]
  },
  {
   "cell_type": "code",
   "execution_count": null,
   "metadata": {},
   "outputs": [],
   "source": [
    "#3. In the same db create a new table called tomatch with two variables id_ and rdm_float.\n",
    "# Insérez le DataFrame dans la table de la base de données SQLite\n",
    "df.to_sql('bc2', conn, if_exists='replace', index=False)\n",
    "#On crée la table tomatch\n",
    "def create_table():\n",
    "    try:\n",
    "        c.execute(\"\"\"CREATE TABLE IF NOT EXISTS tomatch(id_ INT PRIMARY KEY, \"rdm_float\" FLOAT)\"\"\")\n",
    "        conn.commit()\n",
    "    except Exception as e:\n",
    "        print(str(e))\n",
    "        \n",
    "create_table()"
   ]
  },
  {
   "cell_type": "code",
   "execution_count": null,
   "metadata": {},
   "outputs": [],
   "source": [
    "# 4: In the table tomatch insert observations where the id_ starts from 50k, ends at 10000000 and is only even numbers. rdm_float is a random float for each observation.\n",
    "query = \"\"\"INSERT INTO tomatch(id_,rdm_float) VALUES (?,?)\"\"\"\n",
    "list_of_insertion = []\n",
    "for i in tqdm.tqdm(range(50000,10000000,2)):\n",
    "    values = (i, random.uniform(0,1))\n",
    "    list_of_insertion.append(values)\n",
    "    if len(list_of_insertion) == 10000:\n",
    "        c.executemany(query, list_of_insertion)\n",
    "        conn.commit()\n",
    "        list_of_insertion = []"
   ]
  },
  {
   "cell_type": "code",
   "execution_count": null,
   "metadata": {},
   "outputs": [],
   "source": [
    "# 5: Do an Inner join between the two tables and compute the different aggregate functions on a column of your choice.\n",
    "\n",
    "c.execute(\"\"\"SELECT avg(rdm_float), count(rdm_float), max(rdm_float), min(rdm_float), sum(rdm_float) FROM bc2\n",
    "             INNER JOIN tomatch ON tomatch.id_=bc2.id\"\"\")\n",
    "\n",
    "docs = c.fetchall()\n",
    "print(docs)"
   ]
  },
  {
   "cell_type": "code",
   "execution_count": null,
   "metadata": {},
   "outputs": [],
   "source": [
    "# 6: How many observations have a radius_mean greater than 15 ? From them how many have a texture_mean greater than 20 ?\n",
    "\n",
    "c.execute(\"SELECT COUNT(*) FROM bc2 WHERE radius_mean > 15\")\n",
    "\n",
    "count_radius_mean_gt_15 = c.fetchone()[0]\n",
    "\n",
    "print(\"Radius moyen > 15 :\", count_radius_mean_gt_15)\n",
    "\n",
    "c.execute(\"SELECT COUNT(*) FROM bc2 WHERE radius_mean > 15 AND texture_mean > 20\")\n",
    "\n",
    "count_both_gt_15_20 = c.fetchone()[0]\n",
    "\n",
    "print(\"Radius moyen > 15 et texture moyenne > 20 :\", count_both_gt_15_20)"
   ]
  },
  {
   "cell_type": "code",
   "execution_count": null,
   "metadata": {},
   "outputs": [],
   "source": [
    "# 7: For each category in diagnosis do the mean of a variable and round it to get only 2 numbers after the comma. Compute the difference between the mean of both groups\n",
    "# Exécuter une requête SQL pour calculer la moyenne de la variable souhaitée pour chaque catégorie de diagnostic\n",
    "c.execute(\"\"\"\n",
    "          SELECT\n",
    "              diagnosis,\n",
    "              ROUND(AVG(radius_mean), 2) AS avg_radius_mean,  -- Moyenne arrondie de radius_mean avec 2 chiffres après la virgule\n",
    "              ROUND(AVG(texture_mean), 2) AS avg_texture_mean   -- Moyenne arrondie de texture_mean avec 2 chiffres après la virgule\n",
    "          FROM\n",
    "              bc2\n",
    "          GROUP BY\n",
    "              diagnosis\n",
    "          \"\"\")\n",
    "\n",
    "# Récupérer les résultats de la requête\n",
    "results = c.fetchall()\n",
    "\n",
    "# Afficher les résultats\n",
    "for row in results:\n",
    "    print(\"Diagnostic:\", row[0])\n",
    "    print(\"moyenne radius_mean:\", row[1])\n",
    "    print(\"moyenne texture_mean:\", row[2])\n",
    "    print()\n",
    "\n",
    "# Calculer la différence entre les moyennes des deux groupes\n",
    "diff_avg_radius_mean = results[0][1] - results[1][1]\n",
    "diff_avg_texture_mean = results[0][2] - results[1][2]\n",
    "\n",
    "print(\"Différence de radius_mean moyen entre les 2 groupes:\", diff_avg_radius_mean)\n",
    "print(\"Différence de texture_mean moyenne entre les 2 groupes:\", diff_avg_texture_mean)"
   ]
  },
  {
   "cell_type": "code",
   "execution_count": null,
   "metadata": {},
   "outputs": [],
   "source": [
    "# 8. Change the name of the column \"diagnosis\" to \"label\"\n",
    "c.execute(\"ALTER TABLE bc2 RENAME COLUMN diagnosis TO label\")\n",
    "\n",
    "conn.commit()"
   ]
  },
  {
   "cell_type": "code",
   "execution_count": null,
   "metadata": {},
   "outputs": [],
   "source": [
    "# 9. Add a column named \"day\" of type DATE.\n",
    "c.execute(\"ALTER TABLE bc2 ADD COLUMN day DATE\")\n",
    "\n",
    "conn.commit()"
   ]
  },
  {
   "cell_type": "code",
   "execution_count": null,
   "metadata": {},
   "outputs": [],
   "source": [
    "# 10. Change the type of the column \"area_mean\" to int (hint, not possible on sqlite, create a new column)\n",
    "c.execute(\"ALTER TABLE bc2 ADD COLUMN area_mean_int INTEGER\")\n",
    "conn.commit()\n",
    "c.execute(\"UPDATE bc2 SET area_mean_int = CAST(area_mean AS INTEGER)\")\n",
    "conn.commit()"
   ]
  },
  {
   "cell_type": "code",
   "execution_count": null,
   "metadata": {},
   "outputs": [],
   "source": [
    "# Histoire de s'assurer que tout cela a bien fonctionné :\n",
    "c.execute(\"PRAGMA table_info(bc2)\")\n",
    "\n",
    "columns_info = c.fetchall()\n",
    "\n",
    "for column_info in columns_info:\n",
    "    print(column_info)"
   ]
  },
  {
   "cell_type": "code",
   "execution_count": null,
   "metadata": {},
   "outputs": [],
   "source": [
    "#11. Create a new table called tomatch2 exactly the same way as tomatch except you increment id_ by 10.\n",
    "c.execute(\"\"\"CREATE TABLE IF NOT EXISTS tomatch2(id_ INT PRIMARY KEY, \"rdm_float\" FLOAT)\"\"\")\n",
    "conn.commit()\n",
    "\n",
    "query = \"\"\"INSERT INTO tomatch2(id_,rdm_float) VALUES (?,random())\"\"\"\n",
    "\n",
    "list_of_insertion = []\n",
    "for i in tqdm.tqdm(range(50000,10000000,10)):\n",
    "    values = (i,)\n",
    "    list_of_insertion.append(values)\n",
    "    if len(list_of_insertion) == 10000:\n",
    "        c.executemany(query, list_of_insertion)\n",
    "        conn.commit()\n",
    "        list_of_insertion = []"
   ]
  },
  {
   "cell_type": "code",
   "execution_count": null,
   "metadata": {},
   "outputs": [],
   "source": [
    "# 12: Do an inner join of bc, tomatch and tomatch2 where the radius_mean is greater than 15, and the rdm_float is greater than 0.50 in tomatch AND tomatch2.\n",
    "# Exécuter une requête SQL pour effectuer une jointure interne des tables \"bc2\", \"tomatch\" et \"tomatch2\" avec les conditions spécifiées\n",
    "c.execute(\"\"\"\n",
    "          SELECT *\n",
    "          FROM bc2\n",
    "          INNER JOIN tomatch ON bc2.id = tomatch.id_\n",
    "          INNER JOIN tomatch2 ON bc2.id = tomatch2.id_\n",
    "          WHERE bc2.radius_mean > 15\n",
    "          AND tomatch.rdm_float > 0.50\n",
    "          AND tomatch2.rdm_float > 0.50\n",
    "          \"\"\")\n",
    "\n",
    "# Récupérer les résultats de la requête\n",
    "results = c.fetchall()\n",
    "\n",
    "# Afficher les résultats\n",
    "for rows in results:\n",
    "    print(rows)"
   ]
  }
 ],
 "metadata": {
  "kernelspec": {
   "display_name": "base",
   "language": "python",
   "name": "python3"
  },
  "language_info": {
   "codemirror_mode": {
    "name": "ipython",
    "version": 3
   },
   "file_extension": ".py",
   "mimetype": "text/x-python",
   "name": "python",
   "nbconvert_exporter": "python",
   "pygments_lexer": "ipython3",
   "version": "3.11.5"
  }
 },
 "nbformat": 4,
 "nbformat_minor": 2
}
