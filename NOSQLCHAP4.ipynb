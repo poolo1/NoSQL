{
 "cells": [
  {
   "cell_type": "markdown",
   "metadata": {},
   "source": [
    "## Neo4j\n",
    "### Exercices Chapitre 4"
   ]
  },
  {
   "cell_type": "code",
   "execution_count": null,
   "metadata": {},
   "outputs": [],
   "source": [
    "import neo4j\n",
    "import py2neo\n",
    "from neo4j import GraphDatabase\n",
    "import random\n",
    "import json\n"
   ]
  },
  {
   "cell_type": "markdown",
   "metadata": {},
   "source": [
    "1. You will continue to work on the MCU network for a while. Who are the 10 fastest in the MCU ? Are they related to each other ?\n"
   ]
  },
  {
   "cell_type": "code",
   "execution_count": 2,
   "metadata": {},
   "outputs": [
    {
     "name": "stdout",
     "output_type": "stream",
     "text": [
      "'Black Bolt'\t100\n",
      "'Stardust'\t100\n",
      "'Quicksilver'\t100\n",
      "'Nova'\t100\n",
      "'Thor'\t92\n",
      "'Silver Surfer'\t84\n",
      "'Galactus'\t83\n",
      "'Dormammu'\t83\n",
      "'Ego'\t83\n",
      "'Northstar'\t83\n"
     ]
    }
   ],
   "source": [
    "\n",
    "graph = py2neo.Graph(\"bolt://localhost:7687\", auth=(\"neo4j\", \"password_tuts\"), name=\"mcu\")\n",
    "\n",
    "query = \"\"\"MATCH (n:Superhero)\n",
    "WHERE (n.Speed) IS NOT NULL\n",
    "RETURN n.name, n.Speed\n",
    "ORDER BY n.Speed DESC\n",
    "LIMIT 10\"\"\"\n",
    "\n",
    "results = graph.run(query)\n",
    "\n",
    "for record in results:\n",
    "    print(record)"
   ]
  },
  {
   "cell_type": "markdown",
   "metadata": {},
   "source": [
    "Are they related to each other ?"
   ]
  },
  {
   "cell_type": "code",
   "execution_count": 3,
   "metadata": {},
   "outputs": [
    {
     "name": "stdout",
     "output_type": "stream",
     "text": [
      "'Ego'\t'Galactus'\n",
      "'Dormammu'\t'Galactus'\n",
      "'Black Bolt'\t'Galactus'\n",
      "'Northstar'\t'Galactus'\n",
      "'Nova'\t'Galactus'\n",
      "'Stardust'\t'Galactus'\n",
      "'Silver Surfer'\t'Galactus'\n",
      "'Quicksilver'\t'Galactus'\n",
      "'Thor'\t'Galactus'\n",
      "'Ego'\t'Silver Surfer'\n",
      "'Nova'\t'Silver Surfer'\n",
      "'Quicksilver'\t'Silver Surfer'\n",
      "'Black Bolt'\t'Silver Surfer'\n",
      "'Galactus'\t'Silver Surfer'\n",
      "'Dormammu'\t'Silver Surfer'\n",
      "'Stardust'\t'Silver Surfer'\n",
      "'Thor'\t'Silver Surfer'\n",
      "'Northstar'\t'Thor'\n",
      "'Ego'\t'Thor'\n",
      "'Silver Surfer'\t'Thor'\n",
      "'Nova'\t'Thor'\n",
      "'Black Bolt'\t'Thor'\n",
      "'Galactus'\t'Thor'\n",
      "'Quicksilver'\t'Thor'\n",
      "'Dormammu'\t'Thor'\n",
      "'Dormammu'\t'Quicksilver'\n",
      "'Ego'\t'Quicksilver'\n",
      "'Nova'\t'Quicksilver'\n",
      "'Galactus'\t'Quicksilver'\n",
      "'Black Bolt'\t'Quicksilver'\n",
      "'Northstar'\t'Quicksilver'\n",
      "'Silver Surfer'\t'Quicksilver'\n",
      "'Thor'\t'Quicksilver'\n",
      "'Quicksilver'\t'Dormammu'\n",
      "'Galactus'\t'Dormammu'\n",
      "'Thor'\t'Dormammu'\n",
      "'Silver Surfer'\t'Dormammu'\n",
      "'Galactus'\t'Ego'\n",
      "'Thor'\t'Ego'\n",
      "'Nova'\t'Ego'\n",
      "'Silver Surfer'\t'Ego'\n",
      "'Quicksilver'\t'Ego'\n",
      "'Black Bolt'\t'Nova'\n",
      "'Ego'\t'Nova'\n",
      "'Galactus'\t'Nova'\n",
      "'Silver Surfer'\t'Nova'\n",
      "'Quicksilver'\t'Nova'\n",
      "'Thor'\t'Nova'\n",
      "'Nova'\t'Black Bolt'\n",
      "'Galactus'\t'Black Bolt'\n",
      "'Quicksilver'\t'Black Bolt'\n",
      "'Thor'\t'Black Bolt'\n",
      "'Silver Surfer'\t'Black Bolt'\n",
      "'Galactus'\t'Northstar'\n",
      "'Thor'\t'Northstar'\n",
      "'Quicksilver'\t'Northstar'\n",
      "'Silver Surfer'\t'Stardust'\n",
      "'Galactus'\t'Stardust'\n"
     ]
    }
   ],
   "source": [
    "graph = py2neo.Graph(\"bolt://localhost:7687\", auth=(\"neo4j\", \"password_tuts\"), name=\"mcu\")\n",
    "\n",
    "query = \"\"\"MATCH (n:Superhero)-[r]-(m:Superhero)\n",
    "WHERE n.name IN ['Black Bolt', 'Stardust', 'Quicksilver', 'Nova', 'Thor', 'Silver Surfer', 'Galactus', 'Dormammu', 'Ego', 'Northstar']\n",
    "AND m.name IN ['Black Bolt', 'Stardust', 'Quicksilver', 'Nova', 'Thor', 'Silver Surfer', 'Galactus', 'Dormammu', 'Ego', 'Northstar']\n",
    "RETURN n.name, m.name\"\"\"\n",
    "\n",
    "results = graph.run(query)\n",
    "for record in results:\n",
    "    print(record)"
   ]
  },
  {
   "cell_type": "markdown",
   "metadata": {},
   "source": [
    "2. How many have collaborated atleast more than 10 times with another superhero?\n"
   ]
  },
  {
   "cell_type": "code",
   "execution_count": 72,
   "metadata": {},
   "outputs": [
    {
     "name": "stdout",
     "output_type": "stream",
     "text": [
      "528\n"
     ]
    }
   ],
   "source": [
    "query = \"\"\"MATCH (a:Superhero)-[r:RELATION]-(b:Superhero)\n",
    "WHERE r.n_collab > 10\n",
    "WITH a\n",
    "MATCH (a)-[r:RELATION]-(b:Superhero)\n",
    "WHERE r.n_collab > 10\n",
    "RETURN COUNT(DISTINCT a)\"\"\"\n",
    "\n",
    "results = graph.run(query).evaluate()\n",
    "print(results)\n",
    "\n"
   ]
  },
  {
   "cell_type": "markdown",
   "metadata": {},
   "source": [
    "Il y a 528 superhéros qui ont collaboré plus de 10 fois avec d'autres superhéros."
   ]
  },
  {
   "cell_type": "markdown",
   "metadata": {},
   "source": [
    "3. Did the weakest of the MCU collaborated with the strongest ?\n"
   ]
  },
  {
   "cell_type": "code",
   "execution_count": 5,
   "metadata": {},
   "outputs": [
    {
     "name": "stdout",
     "output_type": "stream",
     "text": [
      "Lady Deathstrike n'a pas collaboré avec Stardust\n"
     ]
    }
   ],
   "source": [
    "query_weakest = \"\"\"MATCH (n:Superhero)\n",
    "WHERE (n.Total) IS NOT NULL\n",
    "RETURN n.name\n",
    "ORDER BY n.Total\n",
    "LIMIT 1\"\"\"\n",
    "result_weakest = graph.run(query_weakest).evaluate()\n",
    "\n",
    "query_strongest = \"\"\"MATCH (n:Superhero)\n",
    "WHERE (n.Total) IS NOT NULL\n",
    "RETURN n.name\n",
    "ORDER BY n.Total DESC\n",
    "LIMIT 1\"\"\"\n",
    "result_strongest = graph.run(query_strongest).evaluate()\n",
    "\n",
    "query_relation = f\"\"\"MATCH (a:Superhero {{name: \"{result_weakest}\"}})-[r:RELATION]-(b:Superhero {{name: \"{result_strongest}\"}})\n",
    "RETURN COUNT(r)\"\"\"\n",
    "result_relation = graph.run(query_relation).evaluate()\n",
    "\n",
    "if result_relation > 0:\n",
    "    print(f\"{result_weakest} a collaboré avec {result_strongest}\")\n",
    "else:\n",
    "    print(f\"{result_weakest} n'a pas collaboré avec {result_strongest}\")\n"
   ]
  },
  {
   "cell_type": "markdown",
   "metadata": {},
   "source": [
    "4. Give a stats that interests you !"
   ]
  },
  {
   "cell_type": "code",
   "execution_count": 6,
   "metadata": {},
   "outputs": [
    {
     "name": "stdout",
     "output_type": "stream",
     "text": [
      "'Apocalypse'\t100\n",
      "'Juggernaut'\t100\n",
      "'Thor'\t100\n",
      "'Wonder Man'\t100\n",
      "'Hercules'\t100\n",
      "'Silver Surfer'\t100\n",
      "'Galactus'\t100\n",
      "'Hulk'\t100\n",
      "'Thanos'\t100\n",
      "'Beyonder'\t100\n"
     ]
    }
   ],
   "source": [
    "query = \"\"\"MATCH (n:Superhero)\n",
    "WHERE (n.Strength) IS NOT NULL\n",
    "RETURN n.name, n.Strength\n",
    "ORDER BY n.Strength DESC\n",
    "LIMIT 10\"\"\"\n",
    "\n",
    "results = graph.run(query)\n",
    "\n",
    "for record in results:\n",
    "    print(record)\n",
    "\n"
   ]
  },
  {
   "cell_type": "markdown",
   "metadata": {},
   "source": [
    "5. Create a new db called \"master\". Create a graph from the M1 class with name and random age between 20 and 30, Group of 3 that collab (undirected relation)."
   ]
  },
  {
   "cell_type": "markdown",
   "metadata": {},
   "source": [
    "Je ne connais pas les noms de l'ensmble des personnes dans le master, j'ai donc pris des noms sur le groupe mester de whats'app."
   ]
  },
  {
   "cell_type": "code",
   "execution_count": 15,
   "metadata": {},
   "outputs": [],
   "source": [
    "\n",
    "noms = [\"Romain\", \"Céléstin\", \"abaolbatikh\", \"Werner\", \"Valentin\", \"Carl\", \"Paul\", \"Nathan\", \"Boune\", \"Adrien\",\n",
    "             \"Ines\", \"Oumy\", \"Erik\", \"Julien\", \"Georgiana\", \"Huiyue\", \"SH\", \"Lath\", \"InesZ\"]\n",
    "personnes = [py2neo.Node(\"M1\", name=nom, age=random.randint(20, 30)) for nom in noms]\n",
    "\n",
    "for personne in personnes:\n",
    "    graph.create(personne)\n",
    "\n",
    "groupes = []\n",
    "while len(personnes) >= 3:\n",
    "    groupe = random.sample(personnes, 3)\n",
    "    groupes.append(groupe)\n",
    "    for personne in groupe:\n",
    "        personnes.remove(personne)\n",
    "\n",
    "for groupe in groupes:\n",
    "    for i, j in zip(groupe, groupe[1:] + [groupe[0]]):\n",
    "        relation = py2neo.Relationship(i, \"collab\", j)\n",
    "        graph.create(relation)\n"
   ]
  },
  {
   "cell_type": "markdown",
   "metadata": {},
   "source": [
    "6. Get the age for people YOU collaborate with.\n"
   ]
  },
  {
   "cell_type": "code",
   "execution_count": 16,
   "metadata": {},
   "outputs": [
    {
     "name": "stdout",
     "output_type": "stream",
     "text": [
      " b.name | b.age \n",
      "--------|-------\n",
      " Ines   |    26 \n",
      " Carl   |    22 \n",
      "\n"
     ]
    }
   ],
   "source": [
    "query = \"\"\"MATCH (a:M1 {name:\"Paul\"})-[:collab]-(b:M1)\n",
    "RETURN b.name, b.age\"\"\"\n",
    "\n",
    "results = graph.run(query)\n",
    "print(results)"
   ]
  },
  {
   "cell_type": "markdown",
   "metadata": {},
   "source": [
    "7. Get nodes with age > 25."
   ]
  },
  {
   "cell_type": "code",
   "execution_count": 17,
   "metadata": {},
   "outputs": [
    {
     "name": "stdout",
     "output_type": "stream",
     "text": [
      "        a.name  a.age\n",
      "0       Romain     28\n",
      "1     Céléstin     26\n",
      "2  abaolbatikh     27\n",
      "3       Werner     29\n",
      "4     Valentin     30\n",
      "5         Paul     30\n",
      "6         Ines     26\n",
      "7       Julien     27\n",
      "8         Lath     29\n",
      "9        InesZ     28\n"
     ]
    }
   ],
   "source": [
    "query = \"\"\"MATCH (a:M1)\n",
    "WHERE a.age > 25\n",
    "RETURN a.name, a.age\"\"\"\n",
    "\n",
    "df = graph.run(query).to_data_frame()\n",
    "print(df)"
   ]
  },
  {
   "cell_type": "code",
   "execution_count": 35,
   "metadata": {},
   "outputs": [],
   "source": [
    "from neo4j import GraphDatabase\n",
    "\n",
    "# Define Neo4j connection parameters\n",
    "uri = \"bolt://localhost:7687\"\n",
    "username = \"neo4j\"\n",
    "password = \"password_tuts\"\n",
    "name = \"arxiv\"\n",
    "\n",
    "\n",
    "def insert_arxiv_collaboration_network():\n",
    "    driver = GraphDatabase.driver(uri, auth=(username, password))\n",
    "    session = driver.session(database=\"arxiv\")  \n",
    "\n",
    "    with open(\"arxiv_cs-3.txt\", \"r\") as file:\n",
    "        lines = file.readlines()\n",
    "\n",
    "        for line in lines:\n",
    "            authors = line.strip().split(\", \")\n",
    "\n",
    "            for i in range(len(authors)):\n",
    "                for j in range(i + 1, len(authors)):\n",
    "                    author1 = authors[i]\n",
    "                    author2 = authors[j]\n",
    "                    \n",
    "                    session.run(\n",
    "                        \"\"\"\n",
    "                        MERGE (a:Author {name: $author1})\n",
    "                        MERGE (b:Author {name: $author2})\n",
    "                        CREATE UNIQUE (a)-[:COLLABORATES_WITH]->(b)\n",
    "                        \"\"\",\n",
    "                        author1=author1, author2=author2\n",
    "                    )\n",
    "\n",
    "    session.close()\n",
    "    driver.close()\n",
    "\n",
    "if __name__ == \"__main__\":\n",
    "    insert_arxiv_collaboration_network()\n"
   ]
  },
  {
   "cell_type": "code",
   "execution_count": 31,
   "metadata": {},
   "outputs": [],
   "source": [
    "from py2neo import Graph\n",
    "\n",
    "# Define Neo4j connection parameters\n",
    "uri = \"bolt://localhost:7687\"\n",
    "username = \"neo4j\"\n",
    "password = \"password_tuts\"\n",
    "\n",
    "# Function to insert collaboration network into Neo4j\n",
    "def insert_arxiv_collaboration_network():\n",
    "    # Connect to Neo4j\n",
    "    graph = Graph(uri, auth=(username, password))\n",
    "\n",
    "    # Open the text file\n",
    "    with open(\"arxiv_cs-3.txt\", \"r\") as file:\n",
    "        # Read lines from the file\n",
    "        lines = file.readlines()\n",
    "\n",
    "        # Process each line in the file\n",
    "        for line in lines:\n",
    "            # Split the line into authors\n",
    "            authors = line.strip().split(\", \")\n",
    "\n",
    "            # Create nodes for authors and relationships between authors who collaborated on the same paper\n",
    "            for i in range(len(authors)):\n",
    "                for j in range(i + 1, len(authors)):\n",
    "                    author1 = authors[i]\n",
    "                    author2 = authors[j]\n",
    "                    \n",
    "                    # Create same author if same name\n",
    "                    graph.run(\n",
    "                        \"\"\"\n",
    "                        MERGE (a:Author {name: $author1})\n",
    "                        MERGE (b:Author {name: $author2})\n",
    "                        CREATE UNIQUE (a)-[:COLLABORATES_WITH]->(b)\n",
    "                        \"\"\",\n",
    "                        author1=author1, author2=author2\n",
    "                    )\n",
    "\n",
    "if __name__ == \"__main__\":\n",
    "    insert_arxiv_collaboration_network()\n"
   ]
  },
  {
   "cell_type": "code",
   "execution_count": 32,
   "metadata": {},
   "outputs": [],
   "source": [
    "from py2neo import Graph\n",
    "\n",
    "# Define Neo4j connection parameters\n",
    "uri = \"bolt://localhost:7687\"\n",
    "username = \"neo4j\"\n",
    "password = \"password_tuts\"\n",
    "name = \"arxiv\"\n",
    "\n",
    "# Function to insert collaboration network into Neo4j\n",
    "def insert_arxiv_collaboration_network():\n",
    "    # Connect to Neo4j\n",
    "    graph = Graph(uri, auth=(username, password))\n",
    "\n",
    "    # Open the text file\n",
    "    with open(\"arxiv_cs-3.txt\", \"r\") as file:\n",
    "        # Read lines from the file\n",
    "        lines = file.readlines()\n",
    "\n",
    "        # Process each line in the file\n",
    "        for line in lines:\n",
    "            # Split the line into authors\n",
    "            authors = line.strip().split(\", \")\n",
    "\n",
    "            # Create nodes for authors and relationships between authors who collaborated on the same paper\n",
    "            for i in range(len(authors)):\n",
    "                for j in range(i + 1, len(authors)):\n",
    "                    author1 = authors[i]\n",
    "                    author2 = authors[j]\n",
    "                    \n",
    "                    # Create same author if same name\n",
    "                    query = (\n",
    "                        f\"MERGE (a:Author {{name: '{author1}'}}) \"\n",
    "                        f\"MERGE (b:Author {{name: '{author2}'}}) \"\n",
    "                        f\"CREATE UNIQUE (a)-[:COLLABORATES_WITH]->(b)\"\n",
    "                    )\n",
    "                    graph.run(query)\n",
    "\n",
    "if __name__ == \"__main__\":\n",
    "    insert_arxiv_collaboration_network()\n"
   ]
  },
  {
   "cell_type": "markdown",
   "metadata": {},
   "source": [
    "## Application 3"
   ]
  },
  {
   "cell_type": "code",
   "execution_count": 103,
   "metadata": {},
   "outputs": [],
   "source": [
    "# Define Neo4j connection parameters\n",
    "uri = \"bolt://localhost:7687\"\n",
    "username = \"neo4j\"\n",
    "password = \"password_tuts\"\n",
    "\n",
    "def insert_pubmed_collaboration_network():\n",
    "    driver = GraphDatabase.driver(uri, auth=(username, password))\n",
    "    session = driver.session(database=\"pubmed_cleaned.json\")\n",
    "\n",
    "    # Load data from JSON file\n",
    "    with open(\"pubmed_cleaned.json\", \"r\") as file:\n",
    "        data = json.load(file)\n",
    "            \n",
    "        session.run(\n",
    "                        \"\"\"\n",
    "                        MERGE (a:Author {name: $author1})\n",
    "                        MERGE (b:Author {name: $author2})\n",
    "                        CREATE UNIQUE (a)-[:COLLABORATES_WITH]->(b)\n",
    "                        \"\"\",\n",
    "                        author1=author1, author2=author2\n",
    "                    )                    \n",
    "\n",
    "    session.close()\n",
    "    driver.close()\n"
   ]
  },
  {
   "cell_type": "code",
   "execution_count": 108,
   "metadata": {},
   "outputs": [],
   "source": [
    "from neo4j import GraphDatabase\n",
    "\n",
    "# Neo4j connection details\n",
    "uri = \"bolt://localhost:7687\"\n",
    "username = \"neo4j\"\n",
    "password = \"password_tuts\"\n",
    "\n",
    "# Function to insert author nodes\n",
    "def insert_author_nodes(data):\n",
    "    # Connect to Neo4j\n",
    "    driver = GraphDatabase.driver(uri, auth=(username, password))\n",
    "    with driver.session() as session:\n",
    "        for paper in data:\n",
    "            # Extract authors and affiliations from paper data\n",
    "            authors = paper[\"authors\"]\n",
    "            for author_info in authors:\n",
    "                author_name = author_info[\"name\"]\n",
    "                affiliations = author_info[\"affiliations\"]\n",
    "                \n",
    "                # Check if author node already exists\n",
    "                result = session.run(\n",
    "                    \"MATCH (a:Author {name: $name}) RETURN a\",\n",
    "                    name=author_name\n",
    "                )\n",
    "                if not result.single():\n",
    "                    # Create author node\n",
    "                    session.run(\n",
    "                        \"CREATE (a:Author {name: $name, affiliations: $affiliations})\",\n",
    "                        name=author_name,\n",
    "                        affiliations=affiliations\n",
    "                    )\n",
    "\n",
    "    # Close Neo4j connection\n",
    "    driver.close()\n"
   ]
  },
  {
   "cell_type": "markdown",
   "metadata": {},
   "source": [
    "2. How many authors have more than 2 affiliations ?"
   ]
  },
  {
   "cell_type": "code",
   "execution_count": null,
   "metadata": {},
   "outputs": [],
   "source": [
    "\n",
    "\n",
    "uri = \"bolt://localhost:7687\"\n",
    "username = \"neo4j\"\n",
    "password = \"password_tuts\"\n",
    "name = \"pubmed\"\n",
    "\n",
    "def count_authors_with_more_than_two_affiliations():\n",
    "    driver = GraphDatabase.driver(uri, auth=(username, password, name))\n",
    "    with driver.session() as session:\n",
    "        result = session.run(\n",
    "            \"\"\"\n",
    "            MATCH (a:Author)\n",
    "            WHERE size(a.affiliations) > 2\n",
    "            RETURN count(a) AS authorsWithMoreThanTwoAffiliations\n",
    "            \"\"\"\n",
    "        )\n",
    "        count = result.single()[\"authorsWithMoreThanTwoAffiliations\"]\n",
    "\n",
    "    driver.close()\n",
    "\n",
    "    return count\n",
    "\n",
    "count = count_authors_with_more_than_two_affiliations()\n",
    "\n",
    "print(count)\n"
   ]
  },
  {
   "cell_type": "markdown",
   "metadata": {},
   "source": [
    "3. Create a density of node degrees. Do you observe a power scale law ? What does it mean ?\n"
   ]
  },
  {
   "cell_type": "code",
   "execution_count": null,
   "metadata": {},
   "outputs": [],
   "source": [
    "\n",
    "import matplotlib.pyplot as plt\n",
    "import numpy as np\n",
    "from neo4j import GraphDatabase\n",
    "import pandas as pd\n",
    "\n",
    "graph = py2neo.Graph(\"bolt://localhost:7687\", auth=(\"neo4j\", \"password_tuts\"), name=\"pubmed\")\n",
    "\n",
    "query1 =  \"\"\"\n",
    "MATCH (n)\n",
    "WITH n, size((n)--()) AS degree\n",
    "WITH degree, count(*) AS count\n",
    "RETURN degree, count\n",
    "ORDER BY degree\n",
    "\"\"\"\n",
    "\n",
    "results1 = graph.run(query).to_data_frame()\n",
    "\n",
    "data = pd.DataFrame([dict(record) for record in result])\n",
    "\n",
    "plt.bar(data[\"degree\"], data[\"count\"])\n",
    "plt.xlabel('Degree')\n",
    "plt.ylabel('Count')\n",
    "plt.title('Node Degree Distribution')\n",
    "plt.show()"
   ]
  },
  {
   "cell_type": "markdown",
   "metadata": {},
   "source": [
    "4. Which country has seen the most international collaboration ?\n"
   ]
  },
  {
   "cell_type": "code",
   "execution_count": null,
   "metadata": {},
   "outputs": [],
   "source": [
    "\n",
    "from neo4j import GraphDatabase\n",
    "\n",
    "graph = py2neo.Graph(\"bolt://localhost:7687\", auth=(\"neo4j\", \"password_tuts\"), name=\"pubmed\")\n",
    "\n",
    "query2 = \"\"\"\n",
    "        // Match authors with affiliations in different countries\n",
    "        MATCH (a:Author)-[:AFFILIATED_WITH]->(aff1:Affiliation),\n",
    "        (b:Author)-[:AFFILIATED_WITH]->(aff2:Affiliation)\n",
    "        WHERE a <> b AND aff1.country <> aff2.country\n",
    "        // Count the collaborations between authors from different countries\n",
    "        WITH aff1.country AS country1, aff2.country AS country2, count(*) AS collaborations\n",
    "        // Aggregate and determine the country with the most collaborations\n",
    "        RETURN country1, country2, collaborations\n",
    "        ORDER BY collaborations DESC\n",
    "        LIMIT 1\n",
    "        \"\"\"\n",
    "        \n",
    "record = result.single()\n",
    "country1 = record[\"country1\"]\n",
    "country2 = record[\"country2\"]\n",
    "collaborations = record[\"collaborations\"]\n",
    "\n",
    "# Print the result\n",
    "print(\"The countries {country1} and {country2} have the most international collaboration with {collaborations} collaborations.\")"
   ]
  },
  {
   "cell_type": "markdown",
   "metadata": {},
   "source": [
    "5. Who are the top 10 collaborators and what is their affiliation ?\n"
   ]
  },
  {
   "cell_type": "code",
   "execution_count": null,
   "metadata": {},
   "outputs": [],
   "source": [
    "query = \"\"\"\n",
    "MATCH (a:Author)-[:SAME_TITLE]-(:Author)\n",
    "WITH DISTINCT a, COUNT(DISTINCT id(a)) AS collaborations, COLLECT(DISTINCT a.affiliation) AS affiliations\n",
    "ORDER BY collaborations DESC\n",
    "LIMIT 10\n",
    "RETURN a.name AS Author, affiliations[0] AS Affiliation, collaborations\n",
    "\"\"\"\n",
    "\n",
    "results2 = graph.run(query).to_data_frame\n",
    "\n",
    "print(results2)"
   ]
  },
  {
   "cell_type": "markdown",
   "metadata": {},
   "source": [
    "6. Sandbox : Compter le nombre de papier en économie écris en france"
   ]
  },
  {
   "cell_type": "code",
   "execution_count": null,
   "metadata": {},
   "outputs": [],
   "source": [
    "query = \"\"\"MATCH (a:Author)-[:WRITTEN]->(m:Paper)\n",
    "WHERE toLower(m.domain) CONTAINS 'economy' AND a.country = 'France'\n",
    "RETURN COUNT(DISTINCT m) AS num_papers\n",
    "        \"\"\"\n",
    "results3 = graph.run(query).to_data_frame\n",
    "\n",
    "print(results3)"
   ]
  },
  {
   "cell_type": "markdown",
   "metadata": {},
   "source": [
    "## Application 5"
   ]
  },
  {
   "cell_type": "code",
   "execution_count": 53,
   "metadata": {},
   "outputs": [],
   "source": [
    "\n",
    "import py2neo\n",
    "import seaborn as sns\n",
    "import itertools\n",
    "import pandas as pd\n",
    "import tqdm\n",
    "graph = py2neo.Graph(\"bolt://localhost:7687\", auth=(\"neo4j\", \"password_tuts\"), name=\"twitch\")"
   ]
  },
  {
   "cell_type": "code",
   "execution_count": 44,
   "metadata": {},
   "outputs": [
    {
     "data": {
      "text/plain": [
       "(6549, 6)"
      ]
     },
     "execution_count": 44,
     "metadata": {},
     "output_type": "execute_result"
    }
   ],
   "source": [
    "\n",
    "\n",
    "target = pd.read_csv(\"FR_target.csv\")\n",
    "target = target.drop_duplicates(subset=\"id\")\n",
    "target.shape"
   ]
  },
  {
   "cell_type": "code",
   "execution_count": 45,
   "metadata": {},
   "outputs": [
    {
     "name": "stdout",
     "output_type": "stream",
     "text": [
      "Constraint already exists\n"
     ]
    },
    {
     "name": "stderr",
     "output_type": "stream",
     "text": [
      "6549it [00:00, 9509.98it/s] \n"
     ]
    }
   ],
   "source": [
    "try:\n",
    "    graph.run(\"CREATE CONSTRAINT ON (n:Streamer) ASSERT n.id IS UNIQUE\")\n",
    "except:\n",
    "    print(\"Constraint already exists\")\n",
    "\n",
    "transaction_list = []\n",
    "for row in tqdm.tqdm(target.iterrows()):\n",
    "    id = row[1][\"id\"]\n",
    "    days = row[1][\"days\"]\n",
    "    mature = row[1][\"mature\"]\n",
    "    views= row[1][\"views\"]\n",
    "    partner = row[1][\"partner\"]\n",
    "    new_id = row[1][\"new_id\"]\n",
    "    transaction_list.append({\"id\": id, \"days\": days, \"mature\": mature, \"views\": views, \"partner\": partner, \"new_id\": new_id})\n",
    "    if len(transaction_list) == 1000:\n",
    "        transaction = \"UNWIND $json as data CREATE (n:Streamer) SET n = data\"\n",
    "        graph.run(transaction, json=transaction_list)\n",
    "        transaction_list = []\n",
    "        \n",
    "graph.run(transaction, json=transaction_list)\n",
    "\n",
    "pass"
   ]
  },
  {
   "cell_type": "code",
   "execution_count": 47,
   "metadata": {},
   "outputs": [
    {
     "data": {
      "text/plain": [
       "(112666, 2)"
      ]
     },
     "execution_count": 47,
     "metadata": {},
     "output_type": "execute_result"
    }
   ],
   "source": [
    "edges = pd.read_csv(\"FR_edges.csv\")\n",
    "edges = edges.drop_duplicates()\n",
    "edges.shape"
   ]
  },
  {
   "cell_type": "code",
   "execution_count": 50,
   "metadata": {},
   "outputs": [
    {
     "name": "stderr",
     "output_type": "stream",
     "text": [
      "100%|██████████| 5882/5882 [7:34:50<00:00,  4.64s/it]     \n"
     ]
    }
   ],
   "source": [
    "\n",
    "graph = py2neo.Graph(\"bolt://localhost:7687\", auth=(\"neo4j\", \"password_tuts\"), name=\"twitch\")\n",
    "\n",
    "transaction_list = []\n",
    "transaction = \"\"\"UNWIND $json as data\n",
    "    MATCH (a:Streamer),(b:Streamer)\n",
    "    WHERE a.new_id = data.from AND b.new_id = data.to\n",
    "    MERGE (a)-[r:RELATION]->(b)\n",
    "    ON CREATE\n",
    "    SET r.n_collab = 1\n",
    "    ON MATCH\n",
    "    SET r.n_collab = r.n_collab + 1\n",
    "    \"\"\"\n",
    "it = 0\n",
    "for edge in tqdm.tqdm(edges.groupby([\"from\"])):\n",
    "    related_ids = edge[1][\"to\"]\n",
    "    for combi in list(itertools.combinations(related_ids, 2)):\n",
    "        sh1 = combi[0]\n",
    "        sh2 = combi[1]\n",
    "        transaction_list.append({\"from\":sh1,\"to\":sh2})\n",
    "        it +=1\n",
    "        if it % 1000 == 0:\n",
    "            graph.run(transaction, json=transaction_list)\n",
    "            transaction_list = []\n",
    "\n",
    "graph.run(transaction, json=transaction_list)\n",
    "pass"
   ]
  },
  {
   "cell_type": "markdown",
   "metadata": {},
   "source": [
    "1. Give the IDs of the top 10 streamers that have atleast one collaboration.\n"
   ]
  },
  {
   "cell_type": "markdown",
   "metadata": {},
   "source": []
  },
  {
   "cell_type": "code",
   "execution_count": 52,
   "metadata": {},
   "outputs": [
    {
     "name": "stdout",
     "output_type": "stream",
     "text": [
      "   streamer_id  collab\n",
      "0    127477789    4326\n",
      "1     18887776    4196\n",
      "2     41719107    4140\n",
      "3    147337432    4112\n",
      "4     73622058    4071\n",
      "5     40383341    3853\n",
      "6     53993547    3801\n",
      "7     40329398    3776\n",
      "8     67655739    3571\n",
      "9     27085209    3559\n"
     ]
    }
   ],
   "source": [
    "query = \"\"\" MATCH (n:Streamer)-[r:RELATION]->(m:Streamer)\n",
    "WITH n, count(r) as collab\n",
    "WHERE collab >= 1\n",
    "RETURN n.id as streamer_id, collab\n",
    "ORDER BY collab DESC\n",
    "LIMIT 10\n",
    "  \"\"\"\n",
    "\n",
    "results = graph.run(query).to_data_frame()\n",
    "print(results)"
   ]
  },
  {
   "cell_type": "markdown",
   "metadata": {},
   "source": [
    "2. Create a density of node degrees. Do you observe a power scale law ? What does it mean ?\n"
   ]
  },
  {
   "cell_type": "code",
   "execution_count": 59,
   "metadata": {},
   "outputs": [
    {
     "data": {
      "text/plain": [
       "Text(0, 0.5, 'Density of node')"
      ]
     },
     "execution_count": 59,
     "metadata": {},
     "output_type": "execute_result"
    },
    {
     "data": {
      "image/png": "[encoded data removed]",
      "text/plain": [
       "<Figure size 640x480 with 1 Axes>"
      ]
     },
     "metadata": {},
     "output_type": "display_data"
    }
   ],
   "source": [
    "query =  \"\"\"\n",
    "MATCH (s)\n",
    "OPTIONAL MATCH (s)-[:RELATION]->()\n",
    "WITH s, COUNT(*) AS degree\n",
    "RETURN degree\n",
    "\"\"\"\n",
    "data = graph.run(query).to_data_frame()\n",
    "\n",
    "ax = sns.histplot(data[\"degree\"], kde=True)\n",
    "ax.set_title(\"Density of node degrees\")\n",
    "ax.set_xlabel(\"Degree\")\n",
    "ax.set_ylabel(\"Density of node\")\n"
   ]
  },
  {
   "cell_type": "markdown",
   "metadata": {},
   "source": [
    "3. How many streamers has the tag \"mature\" ?\n"
   ]
  },
  {
   "cell_type": "code",
   "execution_count": 60,
   "metadata": {},
   "outputs": [
    {
     "name": "stdout",
     "output_type": "stream",
     "text": [
      "   mature_streamers\n",
      "0              2414\n"
     ]
    }
   ],
   "source": [
    "query = \"\"\" MATCH (n:Streamer)\n",
    "            WHERE n.mature = True\n",
    "            RETURN count(n) as mature_streamers \"\"\"\n",
    "\n",
    "results = graph.run(query).to_data_frame()\n",
    "print(results)"
   ]
  },
  {
   "cell_type": "markdown",
   "metadata": {},
   "source": [
    "4. Is the collaboration correlated to the \"mature\" tag ?"
   ]
  },
  {
   "cell_type": "markdown",
   "metadata": {},
   "source": []
  },
  {
   "cell_type": "code",
   "execution_count": 62,
   "metadata": {},
   "outputs": [
    {
     "name": "stdout",
     "output_type": "stream",
     "text": [
      "-0.9999999999999999\n"
     ]
    }
   ],
   "source": [
    "query = \"\"\"MATCH (s:Streamer)-[r:RELATION]->()\n",
    "WITH s.mature AS mature, count(r) AS collab_count\n",
    "RETURN mature, collab_count\n",
    " \"\"\"\n",
    "\n",
    "result = graph.run(query).to_data_frame()\n",
    "corr = result['mature'].corr(result['collab_count'])\n",
    "print(corr) "
   ]
  },
  {
   "cell_type": "markdown",
   "metadata": {},
   "source": [
    "Le coefficient de coorélation est d'environs -1, ce qui signifie que les streamers qui ont le tag 'mature' n'ont pas tendnace a faire de collaboration, a contrario des streamers sans le tag mature."
   ]
  },
  {
   "cell_type": "markdown",
   "metadata": {},
   "source": [
    "5. Do partners collaborate more than non partners ?"
   ]
  },
  {
   "cell_type": "code",
   "execution_count": 68,
   "metadata": {},
   "outputs": [
    {
     "name": "stdout",
     "output_type": "stream",
     "text": [
      "   collab_p\n",
      "0     74524\n",
      "   collab_np\n",
      "0    4052279\n"
     ]
    }
   ],
   "source": [
    "query = \"\"\" MATCH (n:Streamer)-[r:RELATION]->(m:Streamer)\n",
    "WHERE n <> m AND n.partner = True AND m.partner = True\n",
    "RETURN count(r) as collab_p \"\"\"\n",
    "\n",
    "result1 = graph.run(query).to_data_frame()\n",
    "print(result1)\n",
    "\n",
    "query2 = \"\"\" MATCH (n:Streamer)-[r:RELATION]->(m:Streamer)\n",
    "WHERE n <> m AND n.partner = False AND m.partner = False\n",
    "RETURN count(r) as collab_np \"\"\"\n",
    "\n",
    "result2 = graph.run(query2).to_data_frame()\n",
    "print(result2)"
   ]
  },
  {
   "cell_type": "markdown",
   "metadata": {},
   "source": [
    "Les partenaire collabores moins que les non partenaires."
   ]
  },
  {
   "cell_type": "markdown",
   "metadata": {},
   "source": [
    "6. Sandbox : Give the top 3 streamers with the most views."
   ]
  },
  {
   "cell_type": "code",
   "execution_count": 102,
   "metadata": {},
   "outputs": [
    {
     "name": "stdout",
     "output_type": "stream",
     "text": [
      "   streamer_id  views\n",
      "0    127477789   4326\n",
      "1     18887776   4196\n",
      "2     41719107   4140\n"
     ]
    }
   ],
   "source": [
    "graph = py2neo.Graph(\"bolt://localhost:7687\", auth=(\"neo4j\", \"password_tuts\"), name=\"twitch\")\n",
    "query = \"\"\"\n",
    "MATCH (n:Streamer)-[r:RELATION]->(m:Streamer)\n",
    "WITH n, count(r) as views\n",
    "WHERE views >= 1\n",
    "RETURN n.id as streamer_id, views\n",
    "ORDER BY views DESC\n",
    "LIMIT 3\n",
    "\"\"\"\n",
    "\n",
    "results = graph.run(query).to_data_frame()\n",
    "print(results)"
   ]
  },
  {
   "cell_type": "markdown",
   "metadata": {},
   "source": [
    "## Application 6"
   ]
  },
  {
   "cell_type": "code",
   "execution_count": 78,
   "metadata": {},
   "outputs": [],
   "source": [
    "\n",
    "import pandas as pd\n",
    "from py2neo import Graph, Node, Relationship\n",
    "from py2neo import NodeMatcher\n",
    "\n",
    "\n",
    "csv_file = \"stack_network_nodes.csv\"\n",
    "data = pd.read_csv(csv_file)\n",
    "\n",
    "graph = Graph(\"bolt://localhost:7687\", auth=(\"neo4j\", \"password_tuts\"), name=\"stack\")\n",
    "\n",
    "for index, row in data.iterrows():\n",
    "    name = row['name']\n",
    "    group = row['group']\n",
    "    nodesize = row['nodesize']\n",
    "    \n",
    "    node = Node(\"Node\", name=name, group=group, nodesize=nodesize)\n",
    "    \n",
    "    graph.create(node)\n",
    "\n"
   ]
  },
  {
   "cell_type": "code",
   "execution_count": 80,
   "metadata": {},
   "outputs": [],
   "source": [
    "csv_links_file = \"stack_network_links.csv\"\n",
    "links_data = pd.read_csv(csv_links_file)\n",
    "\n",
    "graph = Graph(\"bolt://localhost:7687\", auth=(\"neo4j\", \"password_tuts\"), name=\"stack\")\n",
    "node_matcher = NodeMatcher(graph)\n",
    "node_ids = {node[\"name\"]: node.identity for node in node_matcher.match(\"Node\")}\n",
    "\n",
    "for index, row in links_data.iterrows():\n",
    "    source_name = row['source']\n",
    "    target_name = row['target']\n",
    "    value = row['value']\n",
    "    \n",
    "    source_id = node_ids.get(source_name)\n",
    "    target_id = node_ids.get(target_name)\n",
    "    \n",
    "    if source_id is not None and target_id is not None:\n",
    "        relation = Relationship(graph.nodes[source_id], \"LINKS_TO\", graph.nodes[target_id], weight=value)\n",
    "        \n",
    "        graph.create(relation)\n"
   ]
  },
  {
   "cell_type": "markdown",
   "metadata": {},
   "source": [
    "1. What are the 10 most popular keywords ?\n"
   ]
  },
  {
   "cell_type": "code",
   "execution_count": 97,
   "metadata": {},
   "outputs": [
    {
     "name": "stdout",
     "output_type": "stream",
     "text": [
      "javascript : 1947.48\n",
      "java : 1831.9499999999998\n",
      "python : 1316.01\n",
      "php : 1083.66\n",
      "css : 1023.51\n",
      "c# : 963.39\n",
      "html : 817.3499999999999\n",
      "c++ : 804.33\n",
      "android : 689.58\n",
      "jquery : 624.87\n"
     ]
    }
   ],
   "source": [
    "query = \"\"\"\n",
    "MATCH (t)\n",
    "RETURN t.name AS tag, sum(t.nodesize) AS popularity\n",
    "ORDER BY popularity DESC\n",
    "LIMIT 10\n",
    "\"\"\"\n",
    "\n",
    "result = graph.run(query)\n",
    "for record in result:\n",
    "    print(f\"{record['tag']} : {record['popularity']}\")"
   ]
  },
  {
   "cell_type": "code",
   "execution_count": 99,
   "metadata": {},
   "outputs": [
    {
     "name": "stdout",
     "output_type": "stream",
     "text": [
      "angularjs and css: 2 co-occurrences\n",
      "bootstrap and css: 2 co-occurrences\n",
      "ajax and css: 2 co-occurrences\n",
      "java and spring: 2 co-occurrences\n",
      "jsp and spring: 2 co-occurrences\n",
      "hibernate and spring: 2 co-occurrences\n",
      "java-ee and spring: 2 co-occurrences\n",
      "maven and spring: 2 co-occurrences\n",
      "rest and spring: 2 co-occurrences\n",
      "css and html: 2 co-occurrences\n"
     ]
    }
   ],
   "source": [
    "query = \"\"\"\n",
    "MATCH (k1:Node)-[:LINKS_TO]-(k2:Node)\n",
    "WHERE k1.name < k2.name\n",
    "RETURN k1.name AS Keyword1, k2.name AS Keyword2, COUNT(*) AS co_occurrences\n",
    "ORDER BY co_occurrences DESC\n",
    "LIMIT 10\n",
    "\"\"\"\n",
    "\n",
    "result = graph.run(query)\n",
    "for record in result:\n",
    "    print(f\"{record['Keyword1']} and {record['Keyword2']}: {record['co_occurrences']} co-occurrences\")"
   ]
  },
  {
   "cell_type": "markdown",
   "metadata": {},
   "source": [
    "3. How many keywords are in group 1 ?\n"
   ]
  },
  {
   "cell_type": "code",
   "execution_count": 100,
   "metadata": {},
   "outputs": [
    {
     "name": "stdout",
     "output_type": "stream",
     "text": [
      "30\n"
     ]
    }
   ],
   "source": [
    "query = \"\"\"\n",
    "MATCH (n:Node)\n",
    "WHERE n.group = 1\n",
    "RETURN COUNT(n) AS keyword_count\n",
    "\"\"\"\n",
    "\n",
    "result = graph.run(query)\n",
    "keyword_count = result.evaluate()\n",
    "\n",
    "print(keyword_count)\n"
   ]
  },
  {
   "cell_type": "markdown",
   "metadata": {},
   "source": [
    "Il y a 30 mots-clés danns le groupe 1."
   ]
  },
  {
   "cell_type": "markdown",
   "metadata": {},
   "source": [
    "4. Is the Co-occurence correlated to the \"group\" of the keyword ?\n"
   ]
  },
  {
   "cell_type": "code",
   "execution_count": null,
   "metadata": {},
   "outputs": [],
   "source": [
    "\n",
    "graph = Graph(\"bolt://localhost:7687\", auth=(\"neo4j\", \"password_tuts\"), name=\"stack\")\n",
    "\n",
    "query = \"\"\"\n",
    "MATCH (t1:Node)-[r:LINKS_TO]->(t2:Node)\n",
    "WITH t1.group = t2.group AS same_group, COUNT(*) AS co_occurrences\n",
    "RETURN \n",
    "    SUM(CASE WHEN same_group THEN co_occurrences ELSE 0 END) AS co_occurrences_group,\n",
    "    SUM(CASE WHEN NOT same_group THEN co_occurrences ELSE 0 END) AS co_occurrences_NONgroup\n",
    "\"\"\"\n",
    "\n",
    "result = graph.run(query).evaluate()\n",
    "\n",
    "print(\"Co-occurrence within the same group:\", result['co_occurrences_group'])\n",
    "print(\"Co-occurrence outside the same group:\", result['co_occurrences_NONgroup'])\n"
   ]
  },
  {
   "cell_type": "markdown",
   "metadata": {},
   "source": [
    "5. Sandbox : Show the occurences of \"NoSQL\" overtime \n"
   ]
  },
  {
   "cell_type": "code",
   "execution_count": 93,
   "metadata": {},
   "outputs": [
    {
     "data": {
      "image/png": "[encoded data removed]",
      "text/plain": [
       "<Figure size 640x480 with 1 Axes>"
      ]
     },
     "metadata": {},
     "output_type": "display_data"
    }
   ],
   "source": [
    "from py2neo import Graph\n",
    "import matplotlib.pyplot as plt\n",
    "\n",
    "graph = Graph(\"bolt://localhost:7687\", auth=(\"neo4j\", \"password_tuts\"), name=\"stack\")\n",
    "\n",
    "query = \"\"\"\n",
    "MATCH (d:Document)\n",
    "WHERE d.text CONTAINS 'NoSQL'\n",
    "RETURN date(d.date).year AS year, count(*) AS occurrences\n",
    "ORDER BY year\n",
    "\"\"\"\n",
    "\n",
    "result = graph.run(query)\n",
    "\n",
    "years = []\n",
    "occurrences = []\n",
    "for record in result:\n",
    "    years.append(record['year'])\n",
    "    occurrences.append(record['occurrences'])\n",
    "\n",
    "plt.plot(years, occurrences, marker='o')\n",
    "plt.xlabel('Year')\n",
    "plt.ylabel('Occurrences of \"NoSQL\"')\n",
    "plt.title('Occurrences of \"NoSQL\" over Time')\n",
    "plt.grid(True)\n",
    "plt.show()\n"
   ]
  },
  {
   "cell_type": "markdown",
   "metadata": {},
   "source": [
    "Il y a un problème d'output pour cette question"
   ]
  }
 ],
 "metadata": {
  "kernelspec": {
   "display_name": "base",
   "language": "python",
   "name": "python3"
  },
  "language_info": {
   "codemirror_mode": {
    "name": "ipython",
    "version": 3
   },
   "file_extension": ".py",
   "mimetype": "text/x-python",
   "name": "python",
   "nbconvert_exporter": "python",
   "pygments_lexer": "ipython3",
   "version": "3.11.5"
  }
 },
 "nbformat": 4,
 "nbformat_minor": 2
}
